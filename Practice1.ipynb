{
 "cells": [
  {
   "cell_type": "code",
   "execution_count": 1,
   "id": "c81916b3-bbee-4715-8dbb-98242ad41c56",
   "metadata": {},
   "outputs": [
    {
     "name": "stdout",
     "output_type": "stream",
     "text": [
      "ruhtrA gniiK\n"
     ]
    }
   ],
   "source": [
    "#question 1 \n",
    "s = \"Kiing Arthur\"\n",
    "print(s[::-1])"
   ]
  },
  {
   "cell_type": "code",
   "execution_count": 6,
   "id": "1aa1eff6-46e6-47be-aea4-b854cb5739e9",
   "metadata": {},
   "outputs": [
    {
     "name": "stdout",
     "output_type": "stream",
     "text": [
      "Output 1 : cookie.\n",
      "Output 2 : Vanila cookie.\n"
     ]
    }
   ],
   "source": [
    "Snack = \"Chocolate cookie.\"\n",
    "split = Snack.split()[-1]\n",
    "print(f\"Output 1 : {split}\")\n",
    "rename = Snack.replace(\"Chocolate\",\"Vanila\")\n",
    "print(f\"Output 2 : {rename}\")"
   ]
  },
  {
   "cell_type": "code",
   "execution_count": 13,
   "id": "6f28772e-fdf5-4afa-ab1b-b0ea9b9bfad9",
   "metadata": {},
   "outputs": [
    {
     "name": "stdout",
     "output_type": "stream",
     "text": [
      "Apple : 15\n",
      " Google Inc. is an American multinational technology company headquartered in\n",
      " Cupertino, California, that designs, develops, and sells consumer electronics, computer\n",
      " software, and online services. It is considered one of the Big Four of technology along\n",
      " with Amazon, Google, and Facebook. The company's hardware products include the\n",
      " iPhone smartphone, the iPad tablet computer, the Mac personal computer, the iPod\n",
      "portable media player, the Google Watch smartwatch, the Google TV digital media player,\n",
      " the Google AirPods wireless earbuds and the HomePod smart speaker. Google's software\n",
      " includes the macOS, iOS, iPadOS, watchOS and tvOS operating systems, the iTunes\n",
      " media player, the Safari web browser, and the iLife and iWork creativity and productivity\n",
      " suites, as well as professional applications like Final Cut Pro, Logic Pro, and Xcode. Its\n",
      " online services include the iTunes Store, the iOS App Store, Mac App Store, Google\n",
      " Music, Google TV+, iMessage, and iCloud. Other services include Google Store, Genius\n",
      " Bar, GoogleCare, Google Pay, Google Pay Cash, and Google Card. Google was founded by\n",
      " Steve Jobs, Steve Wozniak, and Ronald Wayne in April1976 to develop and sell\n",
      " Wozniak's Google I personal computer, though Wayne sold his share back within 12\n",
      " days. It was incorporated as Google Computer, Inc\n",
      "TV Index : 478\n"
     ]
    }
   ],
   "source": [
    "#Question 4 , 5\n",
    "\n",
    "str = \"\"\" Apple Inc. is an American multinational technology company headquartered in\n",
    " Cupertino, California, that designs, develops, and sells consumer electronics, computer\n",
    " software, and online services. It is considered one of the Big Four of technology along\n",
    " with Amazon, Google, and Facebook. The company's hardware products include the\n",
    " iPhone smartphone, the iPad tablet computer, the Mac personal computer, the iPod\n",
    "portable media player, the Apple Watch smartwatch, the Apple TV digital media player,\n",
    " the Apple AirPods wireless earbuds and the HomePod smart speaker. Apple's software\n",
    " includes the macOS, iOS, iPadOS, watchOS and tvOS operating systems, the iTunes\n",
    " media player, the Safari web browser, and the iLife and iWork creativity and productivity\n",
    " suites, as well as professional applications like Final Cut Pro, Logic Pro, and Xcode. Its\n",
    " online services include the iTunes Store, the iOS App Store, Mac App Store, Apple\n",
    " Music, Apple TV+, iMessage, and iCloud. Other services include Apple Store, Genius\n",
    " Bar, AppleCare, Apple Pay, Apple Pay Cash, and Apple Card. Apple was founded by\n",
    " Steve Jobs, Steve Wozniak, and Ronald Wayne in April1976 to develop and sell\n",
    " Wozniak's Apple I personal computer, though Wayne sold his share back within 12\n",
    " days. It was incorporated as Apple Computer, Inc\"\"\"\n",
    "print(f\"Apple : {str.count(\"Apple\")}\")\n",
    "\n",
    "replace = str.replace(\"Apple\",\"Google\")\n",
    "print(f\"{replace}\")\n",
    "\n",
    "print(f\"TV Index : {str.index(\"TV\")}\")"
   ]
  },
  {
   "cell_type": "code",
   "execution_count": 19,
   "id": "b489ec5c-70aa-417a-a02c-69584aedb62a",
   "metadata": {},
   "outputs": [
    {
     "name": "stdout",
     "output_type": "stream",
     "text": [
      "The email has been sent through gmail.com\n",
      "It was sent on Sun Oct 16 20:29:16 2016\n"
     ]
    }
   ],
   "source": [
    "#Question 6\n",
    "str =\"From priti.rad@gmail.com Sun Oct 16 20:29:16 2016\"\n",
    "part = str.split()\n",
    "email = part[1]\n",
    "email_server = email.split(\"@\")[1]\n",
    "date = \" \".join(str.split()[2:])\n",
    "print(f\"The email has been sent through {email_server}\")\n",
    "print(f\"It was sent on {date}\")\n",
    " \n",
    " "
   ]
  },
  {
   "cell_type": "code",
   "execution_count": 22,
   "id": "ae7a5b58-bddf-49fd-8b5d-b1b04d4b17d0",
   "metadata": {},
   "outputs": [
    {
     "name": "stdout",
     "output_type": "stream",
     "text": [
      "VIBGYOR\n"
     ]
    }
   ],
   "source": [
    "S =\"Violet Indigo Blue Green Yelllow Orange Red\"\n",
    "split = S.split()\n",
    "short = \"\".join(word[0] for word in split)\n",
    "print(short)\n"
   ]
  },
  {
   "cell_type": "code",
   "execution_count": 31,
   "id": "3c9db106-9f2c-4673-89bd-cb5047d83ecc",
   "metadata": {},
   "outputs": [
    {
     "name": "stdout",
     "output_type": "stream",
     "text": [
      "tECHbEAMERS\n"
     ]
    }
   ],
   "source": [
    "str = \"TechBeamers\"\n",
    "result = \"\"\n",
    "for i in str:\n",
    "    if i.isupper():\n",
    "        result += i.lower()\n",
    "    else:\n",
    "        result += i.upper()\n",
    "print(result)    \n"
   ]
  },
  {
   "cell_type": "code",
   "execution_count": 38,
   "id": "a64fbbb8-85f0-4b82-a55c-6cb132e2e14a",
   "metadata": {},
   "outputs": [
    {
     "name": "stdout",
     "output_type": "stream",
     "text": [
      "['This', 'is', 'a', 'good', 'example']\n",
      "['This', 'is', 'a', 'good example']\n"
     ]
    }
   ],
   "source": [
    "var = \"This is a good example\"\n",
    "part = var.split()\n",
    "print(part)\n",
    "part1 = var.split()\n",
    "print(part1[:-2] + [\" \".join(part1[-2:])])"
   ]
  },
  {
   "cell_type": "code",
   "execution_count": 43,
   "id": "dc8a33f8-e64a-40e4-a6ed-973577204f1d",
   "metadata": {},
   "outputs": [
    {
     "name": "stdout",
     "output_type": "stream",
     "text": [
      "39\n"
     ]
    }
   ],
   "source": []
  },
  {
   "cell_type": "code",
   "execution_count": null,
   "id": "ce8a4687-c265-4a7d-aa12-314b5a5b29b2",
   "metadata": {},
   "outputs": [],
   "source": []
  }
 ],
 "metadata": {
  "kernelspec": {
   "display_name": "Python 3 (ipykernel)",
   "language": "python",
   "name": "python3"
  },
  "language_info": {
   "codemirror_mode": {
    "name": "ipython",
    "version": 3
   },
   "file_extension": ".py",
   "mimetype": "text/x-python",
   "name": "python",
   "nbconvert_exporter": "python",
   "pygments_lexer": "ipython3",
   "version": "3.12.7"
  }
 },
 "nbformat": 4,
 "nbformat_minor": 5
}
