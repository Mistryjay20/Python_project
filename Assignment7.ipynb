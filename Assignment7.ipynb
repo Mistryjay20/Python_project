{
 "cells": [
  {
   "cell_type": "code",
   "execution_count": 2,
   "id": "e130e44e-8b83-487f-bc4e-36a3ffe26f2e",
   "metadata": {},
   "outputs": [
    {
     "name": "stdout",
     "output_type": "stream",
     "text": [
      "0    1\n",
      "1    2\n",
      "2    3\n",
      "3    4\n",
      "4    5\n",
      "5    6\n",
      "6    7\n",
      "7    8\n",
      "8    9\n",
      "dtype: int64\n"
     ]
    }
   ],
   "source": [
    "#Question 1\n",
    "import pandas as pd\n",
    "num = [1,2,3,4,5,6,7,8,9]\n",
    "arr = pd.Series(num)\n",
    "print(arr)"
   ]
  },
  {
   "cell_type": "code",
   "execution_count": 3,
   "id": "25b11b80-47cb-415f-a744-c4e5b89ae146",
   "metadata": {},
   "outputs": [
    {
     "name": "stdout",
     "output_type": "stream",
     "text": [
      "Panda Series to List : [1, 2, 3, 4, 5, 6, 7, 8, 9]\n",
      "Type : <class 'list'>\n"
     ]
    }
   ],
   "source": [
    "#Question 2\n",
    "num = [1,2,3,4,5,6,7,8,9]\n",
    "arr = pd.Series(num)\n",
    "print(f\"Panda Series to List : {arr.tolist()}\")\n",
    "print(f\"Type : {type(num)}\")"
   ]
  },
  {
   "cell_type": "code",
   "execution_count": 5,
   "id": "5b10331a-7def-49a3-9eea-6271d5780d76",
   "metadata": {},
   "outputs": [
    {
     "name": "stdout",
     "output_type": "stream",
     "text": [
      "Addition : \n",
      "0     3\n",
      "1     7\n",
      "2    11\n",
      "3    15\n",
      "4    19\n",
      "dtype: int64\n",
      "Subtraction : \n",
      "0    1\n",
      "1    1\n",
      "2    1\n",
      "3    1\n",
      "4    1\n",
      "dtype: int64\n",
      "Multiplication : \n",
      "0     2\n",
      "1    12\n",
      "2    30\n",
      "3    56\n",
      "4    90\n",
      "dtype: int64\n",
      "Division : \n",
      "0    2.000000\n",
      "1    1.333333\n",
      "2    1.200000\n",
      "3    1.142857\n",
      "4    1.111111\n",
      "dtype: float64\n"
     ]
    }
   ],
   "source": [
    "#Question 3\n",
    "num1 = pd.Series([2,4,6,8,10])\n",
    "num2 = pd.Series([1,3,5,7,9])\n",
    "print(\"Addition : \")\n",
    "ds = num1 + num2\n",
    "print(ds)\n",
    "print(\"Subtraction : \")\n",
    "ds = num1 - num2\n",
    "print(ds)\n",
    "print(\"Multiplication : \")\n",
    "ds = num1 * num2\n",
    "print(ds)\n",
    "print(\"Division : \")\n",
    "ds = num1 / num2\n",
    "print(ds)\n"
   ]
  },
  {
   "cell_type": "code",
   "execution_count": 12,
   "id": "6a0ed71f-b0c3-4301-a87f-cebfaea308bb",
   "metadata": {},
   "outputs": [
    {
     "name": "stdout",
     "output_type": "stream",
     "text": [
      "Original Data Series : \n",
      "0       100\n",
      "1       200\n",
      "2    Python\n",
      "3    300.12\n",
      "4       400\n",
      "dtype: object\n",
      "After Sorting : \n",
      "0    100.00\n",
      "1    200.00\n",
      "3    300.12\n",
      "4    400.00\n",
      "2       NaN\n",
      "dtype: float64\n"
     ]
    }
   ],
   "source": [
    "#Question 4\n",
    "num1 = pd.Series([100,200,\"Python\",300.12,400])\n",
    "print(\"Original Data Series : \")\n",
    "print(num1)\n",
    "print(\"After Sorting : \")\n",
    "num2 = pd.to_numeric(num1,errors = \"coerce\")\n",
    "print(num2.sort_values(ascending = True))"
   ]
  },
  {
   "cell_type": "code",
   "execution_count": 20,
   "id": "ecf2065f-fc24-4377-aca6-c5c4bb2a0259",
   "metadata": {},
   "outputs": [
    {
     "name": "stdout",
     "output_type": "stream",
     "text": [
      "Rows where score between 15 and 20 (inclusive): \n",
      "        name  score  attempts qualify\n",
      "c  Katherine   16.5         2     yes\n",
      "j      Jonas   19.0         1     yes\n",
      "f    Michael   20.0         3     yes\n"
     ]
    }
   ],
   "source": [
    "#Question 5\n",
    "import numpy as np\n",
    "exam_data = {'name': ['Anastasia', 'Dima', 'Katherine', 'James', 'Emily', \n",
    "'Michael', 'Matthew', 'Laura', 'Kevin', 'Jonas'], \n",
    "'score': [12.5, 9, 16.5, np.nan, 9, 20, 14.5, np.nan, 8, 19], \n",
    "'attempts': [1, 3, 2, 3, 2, 3, 1, 1, 2, 1], \n",
    "'qualify': ['yes', 'no', 'yes', 'no', 'no', 'yes', 'yes', 'no', 'no', 'yes']} \n",
    "label = ['a','b','c','d','e','f','g','h','i','j']\n",
    "df = pd.DataFrame(exam_data, index = label)\n",
    "df_sort = df[(df[\"score\"]>=15) & (df[\"score\"]<=20)].sort_values(by=\"score\",ascending = True)\n",
    "print(\"Rows where score between 15 and 20 (inclusive): \")\n",
    "print(df_sort)"
   ]
  },
  {
   "cell_type": "code",
   "execution_count": 24,
   "id": "76a58253-0395-4e61-9696-af192c09c36a",
   "metadata": {},
   "outputs": [
    {
     "name": "stdout",
     "output_type": "stream",
     "text": [
      "Rows where score between 15 and 20 (inclusive): \n",
      "    name  score  attempts qualify\n",
      "j  Jonas   19.0         1     yes\n"
     ]
    }
   ],
   "source": [
    "#Question 6\n",
    "exam_data = {'name': ['Anastasia', 'Dima', 'Katherine', 'James', 'Emily', \n",
    "'Michael', 'Matthew', 'Laura', 'Kevin', 'Jonas'], \n",
    "'score': [12.5, 9, 16.5, np.nan, 9, 20, 14.5, np.nan, 8, 19], \n",
    "'attempts': [1, 3, 2, 3, 2, 3, 1, 1, 2, 1], \n",
    "'qualify': ['yes', 'no', 'yes', 'no', 'no', 'yes', 'yes', 'no', 'no', 'yes']} \n",
    "label = ['a','b','c','d','e','f','g','h','i','j']\n",
    "df = pd.DataFrame(exam_data, index = label)\n",
    "df_sort = df[(df[\"score\"]>=15) & (df[\"attempts\"]<2)].sort_values(by=\"score\",ascending = True)\n",
    "print(\"Rows where score between 15 and 20 (inclusive): \")\n",
    "print(df_sort)"
   ]
  },
  {
   "cell_type": "code",
   "execution_count": 26,
   "id": "b8dd19b5-7b11-4e77-9b8c-1995371da535",
   "metadata": {},
   "outputs": [
    {
     "name": "stdout",
     "output_type": "stream",
     "text": [
      "        name  score  attempts qualify\n",
      "a  Anastasia   12.5         1     yes\n",
      "b       Dima    9.0         3      no\n",
      "c  Katherine   16.5         2     yes\n",
      "d      James   11.5         3      no\n",
      "e      Emily    9.0         2      no\n",
      "f    Michael   20.0         3     yes\n",
      "g    Matthew   14.5         1     yes\n",
      "h      Laura    NaN         1      no\n",
      "i      Kevin    8.0         2      no\n",
      "j      Jonas   19.0         1     yes\n"
     ]
    }
   ],
   "source": [
    "#Question 7\n",
    "df = pd.DataFrame(exam_data, index = label)\n",
    "df.loc[\"d\",\"score\"] = 11.5\n",
    "print(df)"
   ]
  },
  {
   "cell_type": "code",
   "execution_count": 28,
   "id": "fcf25268-4d51-4edd-a234-3908a141e370",
   "metadata": {},
   "outputs": [
    {
     "name": "stdout",
     "output_type": "stream",
     "text": [
      "Sum of the examination attempts by the students: 19\n"
     ]
    }
   ],
   "source": [
    "#Question 8\n",
    "print(f\"Sum of the examination attempts by the students: {df[\"attempts\"].sum()}\")"
   ]
  },
  {
   "cell_type": "code",
   "execution_count": 30,
   "id": "4c1c1854-11e8-4346-a3b4-ff64f1b4b8ac",
   "metadata": {},
   "outputs": [
    {
     "name": "stdout",
     "output_type": "stream",
     "text": [
      "12.0\n"
     ]
    }
   ],
   "source": [
    "#Question 9\n",
    "mean = df[\"score\"].sum() / len(df)\n",
    "print(mean)"
   ]
  },
  {
   "cell_type": "code",
   "execution_count": 41,
   "id": "0520a974-8222-48ed-993d-7fad6f0b4655",
   "metadata": {},
   "outputs": [
    {
     "name": "stdout",
     "output_type": "stream",
     "text": [
      "        name  score  attempts qualify\n",
      "a  Anastasia   12.5         1     yes\n",
      "b       Dima    9.0         3      no\n",
      "c  Katherine   16.5         2     yes\n",
      "d      James    NaN         3      no\n",
      "e      Emily    9.0         2      no\n",
      "f    Michael   20.0         3     yes\n",
      "g    Matthew   14.5         1     yes\n",
      "h      Laura    NaN         1      no\n",
      "i      Kevin    8.0         2      no\n",
      "j      Jonas   19.0         1     yes\n",
      "k     Suresh   15.5         1     yes\n"
     ]
    }
   ],
   "source": [
    "#Question 10\n",
    "exam_data = {'name': ['Anastasia', 'Dima', 'Katherine', 'James', 'Emily', \n",
    "'Michael', 'Matthew', 'Laura', 'Kevin', 'Jonas'], \n",
    "'score': [12.5, 9, 16.5, np.nan, 9, 20, 14.5, np.nan, 8, 19], \n",
    "'attempts': [1, 3, 2, 3, 2, 3, 1, 1, 2, 1], \n",
    "'qualify': ['yes', 'no', 'yes', 'no', 'no', 'yes', 'yes', 'no', 'no', 'yes']} \n",
    "label = ['a','b','c','d','e','f','g','h','i','j']\n",
    "df = pd.DataFrame(exam_data, index = label)\n",
    "\n",
    "s = {'name' : ['Suresh'], 'score': [15.5], 'attempts':[1],'qualify': ['yes']}\n",
    "new = pd.DataFrame(s,index = [\"k\"])\n",
    "add = pd.concat([df,new])\n",
    "print(add)"
   ]
  },
  {
   "cell_type": "code",
   "execution_count": 47,
   "id": "c2508cd1-9631-492c-a76b-abee7f8fe80e",
   "metadata": {},
   "outputs": [
    {
     "name": "stdout",
     "output_type": "stream",
     "text": [
      "   Numbers\n",
      "0        1\n",
      "2        3\n",
      "4        5\n"
     ]
    }
   ],
   "source": [
    "#Question 11\n",
    "num1 = pd.DataFrame([1,2,3,4,5],columns = ['Numbers'])\n",
    "num2 = pd.DataFrame([2,4,6,8,10],columns = ['Numbers'])\n",
    "diff = num1[~num1['Numbers'].isin(num2['Numbers'])]\n",
    "print(diff)"
   ]
  },
  {
   "cell_type": "code",
   "execution_count": 3,
   "id": "4d228de1-f77c-43d4-9743-f3c74d4445ed",
   "metadata": {},
   "outputs": [
    {
     "name": "stdout",
     "output_type": "stream",
     "text": [
      "   Numbers\n",
      "1        2\n",
      "3        4\n"
     ]
    }
   ],
   "source": [
    "#Question 12\n",
    "num1 = pd.DataFrame([1,2,3,4,5],columns = ['Numbers'])\n",
    "num2 = pd.DataFrame([2,4,6,8,10],columns = ['Numbers'])\n",
    "diff = num1[num1['Numbers'].isin(num2['Numbers'])]\n",
    "print(diff)"
   ]
  },
  {
   "cell_type": "code",
   "execution_count": 11,
   "id": "e2ceaa05-0078-42ed-96ee-76c15faeb605",
   "metadata": {},
   "outputs": [
    {
     "name": "stdout",
     "output_type": "stream",
     "text": [
      "Default Index\n",
      "  school_code class            name        date  weight  address t_id\n",
      "0        s001     V  Alberto Franco  15/05/2002      35  street1   t1\n",
      "1        s002     V    Gino Mcneill  17/05/2002      32  street2   t2\n",
      "2        s003    VI     Ryan Parkes  16/02/1999      33  street3   t3\n",
      "3        s001    VI    Eesha Hinton  25/09/1998      30  street1   t4\n",
      "4        s002     V    Gino Mcneill  11/05/2002      31  street2   t5\n",
      "5        s004    VI    David Parkes  15/09/1997      32  street4   t6\n",
      "\n",
      "School_code as Default index\n",
      "            class            name        date  weight  address t_id\n",
      "school_code                                                        \n",
      "s001            V  Alberto Franco  15/05/2002      35  street1   t1\n",
      "s002            V    Gino Mcneill  17/05/2002      32  street2   t2\n",
      "s003           VI     Ryan Parkes  16/02/1999      33  street3   t3\n",
      "s001           VI    Eesha Hinton  25/09/1998      30  street1   t4\n",
      "s002            V    Gino Mcneill  11/05/2002      31  street2   t5\n",
      "s004           VI    David Parkes  15/09/1997      32  street4   t6 \n",
      "\n",
      "\n",
      "t_id as Default index\n",
      "     school_code class            name        date  weight  address\n",
      "t_id                                                               \n",
      "t1          s001     V  Alberto Franco  15/05/2002      35  street1\n",
      "t2          s002     V    Gino Mcneill  17/05/2002      32  street2\n",
      "t3          s003    VI     Ryan Parkes  16/02/1999      33  street3\n",
      "t4          s001    VI    Eesha Hinton  25/09/1998      30  street1\n",
      "t5          s002     V    Gino Mcneill  11/05/2002      31  street2\n",
      "t6          s004    VI    David Parkes  15/09/1997      32  street4\n"
     ]
    }
   ],
   "source": [
    "#Question 13\n",
    "df = pd.DataFrame({'school_code':['s001','s002','s003','s001','s002','s004'],\n",
    "                  'class':['V','V','VI','VI','V','VI'],\n",
    "                  'name': ['Alberto Franco','Gino Mcneill','Ryan Parkes', 'Eesha Hinton', 'Gino Mcneill', 'David Parkes'],\n",
    "                  'date':['15/05/2002','17/05/2002','16/02/1999','25/09/1998','11/05/2002','15/09/1997'], \n",
    "                  'weight': [35, 32, 33, 30, 31, 32],\n",
    "                  'address': ['street1', 'street2', 'street3', 'street1', 'street2', 'street4'], \n",
    "                  't_id':['t1', 't2', 't3', 't4', 't5', 't6']})\n",
    "print(\"Default Index\")\n",
    "print(df.head(10))\n",
    "print(\"\\nSchool_code as Default index\")\n",
    "df1 = df.set_index('school_code')\n",
    "print(f\"{df1} \\n\")\n",
    "print(\"\\nt_id as Default index\")\n",
    "df2 = df.set_index('t_id')\n",
    "print(df2)"
   ]
  },
  {
   "cell_type": "code",
   "execution_count": 17,
   "id": "8787251e-8728-4dd8-8055-52a82eced27b",
   "metadata": {},
   "outputs": [
    {
     "name": "stdout",
     "output_type": "stream",
     "text": [
      " multi Index frame using two columns\n",
      "                 class            name        date  weight  address\n",
      "school_code t_id                                                   \n",
      "s001        t1       V  Alberto Franco  15/05/2002      35  street1\n",
      "s002        t2       V    Gino Mcneill  17/05/2002      32  street2\n",
      "s003        t3      VI     Ryan Parkes  16/02/1999      33  street3\n",
      "s001        t4      VI    Eesha Hinton  25/09/1998      30  street1\n",
      "s002        t5       V    Gino Mcneill  11/05/2002      31  street2\n",
      "s004        t6      VI    David Parkes  15/09/1997      32  street4\n",
      "\n",
      "using an Index and a column. : \n",
      "\n",
      "                 class            name        date  weight  address\n",
      "school_code t_id                                                   \n",
      "s001        t1       V  Alberto Franco  15/05/2002      35  street1\n",
      "s002        t2       V    Gino Mcneill  17/05/2002      32  street2\n",
      "s003        t3      VI     Ryan Parkes  16/02/1999      33  street3\n",
      "s001        t4      VI    Eesha Hinton  25/09/1998      30  street1\n",
      "s002        t5       V    Gino Mcneill  11/05/2002      31  street2\n",
      "s004        t6      VI    David Parkes  15/09/1997      32  street4\n"
     ]
    }
   ],
   "source": [
    "#Question 14\n",
    "df = pd.DataFrame({'school_code':['s001','s002','s003','s001','s002','s004'],\n",
    "                  'class':['V','V','VI','VI','V','VI'],\n",
    "                  'name': ['Alberto Franco','Gino Mcneill','Ryan Parkes', 'Eesha Hinton', 'Gino Mcneill', 'David Parkes'],\n",
    "                  'date':['15/05/2002','17/05/2002','16/02/1999','25/09/1998','11/05/2002','15/09/1997'], \n",
    "                  'weight': [35, 32, 33, 30, 31, 32],\n",
    "                  'address': ['street1', 'street2', 'street3', 'street1', 'street2', 'street4'], \n",
    "                  't_id':['t1', 't2', 't3', 't4', 't5', 't6']})\n",
    "#method 1\n",
    "print(\" multi Index frame using two columns\")\n",
    "df1 = df.set_index(['school_code','t_id'])\n",
    "print(df1)\n",
    "\n",
    "#method 2\n",
    "df_with_index = df.set_index(['school_code'])\n",
    "df_with_index2 = df_with_index.set_index('t_id',append = True)\n",
    "print(\"\\nusing an Index and a column. : \\n\")\n",
    "print(df_with_index2)"
   ]
  },
  {
   "cell_type": "code",
   "execution_count": 19,
   "id": "367d013d-75b7-45f9-ac5d-55ff6f4e7e4d",
   "metadata": {},
   "outputs": [
    {
     "name": "stdout",
     "output_type": "stream",
     "text": [
      "Default Index\n",
      "    school_code class            name        date  weight  address t_id\n",
      "0        s001     V  Alberto Franco  15/05/2002      35  street1   t1\n",
      "1        s002     V    Gino Mcneill  17/05/2002      32  street2   t2\n",
      "2        s003    VI     Ryan Parkes  16/02/1999      33  street3   t3\n",
      "3        s001    VI    Eesha Hinton  25/09/1998      30  street1   t4\n",
      "4        s002     V    Gino Mcneill  11/05/2002      31  street2   t5\n",
      "5        s004    VI    David Parkes  15/09/1997      32  street4   t6\n",
      "\n",
      "t_id as index :\n",
      "      school_code class            name        date  weight  address\n",
      "t_id                                                               \n",
      "t1          s001     V  Alberto Franco  15/05/2002      35  street1\n",
      "t2          s002     V    Gino Mcneill  17/05/2002      32  street2\n",
      "t3          s003    VI     Ryan Parkes  16/02/1999      33  street3\n",
      "t4          s001    VI    Eesha Hinton  25/09/1998      30  street1\n",
      "t5          s002     V    Gino Mcneill  11/05/2002      31  street2\n",
      "t6          s004    VI    David Parkes  15/09/1997      32  street4\n",
      "\n",
      "Reset index :\n",
      "    index school_code class            name        date  weight  address t_id\n",
      "0      0        s001     V  Alberto Franco  15/05/2002      35  street1   t1\n",
      "1      1        s002     V    Gino Mcneill  17/05/2002      32  street2   t2\n",
      "2      2        s003    VI     Ryan Parkes  16/02/1999      33  street3   t3\n",
      "3      3        s001    VI    Eesha Hinton  25/09/1998      30  street1   t4\n",
      "4      4        s002     V    Gino Mcneill  11/05/2002      31  street2   t5\n",
      "5      5        s004    VI    David Parkes  15/09/1997      32  street4   t6\n"
     ]
    }
   ],
   "source": [
    "#Question 15\n",
    "df = pd.DataFrame({'school_code':['s001','s002','s003','s001','s002','s004'],\n",
    "                  'class':['V','V','VI','VI','V','VI'],\n",
    "                  'name': ['Alberto Franco','Gino Mcneill','Ryan Parkes', 'Eesha Hinton', 'Gino Mcneill', 'David Parkes'],\n",
    "                  'date':['15/05/2002','17/05/2002','16/02/1999','25/09/1998','11/05/2002','15/09/1997'], \n",
    "                  'weight': [35, 32, 33, 30, 31, 32],\n",
    "                  'address': ['street1', 'street2', 'street3', 'street1', 'street2', 'street4'], \n",
    "                  't_id':['t1', 't2', 't3', 't4', 't5', 't6']})\n",
    "\n",
    "print(f\"Default Index\\n  {df}\")\n",
    "\n",
    "df1 = df.set_index('t_id')\n",
    "print(f\"\\nt_id as index :\\n {df1}\")\n",
    "\n",
    "df2 = df.reset_index()\n",
    "print(f\"\\nReset index :\\n {df2}\")"
   ]
  },
  {
   "cell_type": "code",
   "execution_count": null,
   "id": "b37f6b9c-a6d2-4abb-95e6-9b09ff898ffe",
   "metadata": {},
   "outputs": [],
   "source": [
    "#Question 16 *****"
   ]
  },
  {
   "cell_type": "code",
   "execution_count": 21,
   "id": "ed773ff6-1a71-4bdf-91e4-e19f9a6a6ad0",
   "metadata": {},
   "outputs": [
    {
     "name": "stdout",
     "output_type": "stream",
     "text": [
      "          value\n",
      "Interval       \n",
      "(0, 10]     100\n",
      "(10, 20]    200\n",
      "(20, 30]    300\n",
      "(30, 40]    400\n",
      "(40, 50]    500\n"
     ]
    }
   ],
   "source": [
    "#Question 17\n",
    "interval = pd.interval_range(start = 0,end = 50,freq = 10)\n",
    "df = pd.DataFrame({'Interval': interval,\n",
    "                  'value':[100,200,300,400,500]}).set_index('Interval')\n",
    "print(df)"
   ]
  },
  {
   "cell_type": "code",
   "execution_count": null,
   "id": "4bea4675-a3a6-457c-b8c9-6d449f512559",
   "metadata": {},
   "outputs": [],
   "source": []
  }
 ],
 "metadata": {
  "kernelspec": {
   "display_name": "Python 3 (ipykernel)",
   "language": "python",
   "name": "python3"
  },
  "language_info": {
   "codemirror_mode": {
    "name": "ipython",
    "version": 3
   },
   "file_extension": ".py",
   "mimetype": "text/x-python",
   "name": "python",
   "nbconvert_exporter": "python",
   "pygments_lexer": "ipython3",
   "version": "3.12.7"
  }
 },
 "nbformat": 4,
 "nbformat_minor": 5
}
