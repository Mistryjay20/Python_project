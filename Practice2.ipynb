{
 "cells": [
  {
   "cell_type": "code",
   "execution_count": 7,
   "id": "609f4eb4-044d-4688-b35f-ab3f327085dc",
   "metadata": {},
   "outputs": [
    {
     "name": "stdout",
     "output_type": "stream",
     "text": [
      "Number of word present in sentence is : 12\n",
      "Descending : ['that', 'series', 'sentences', 'paragraph', 'organized', 'of', 'is', 'coherent', 'are', 'and', 'a', 'A']\n"
     ]
    }
   ],
   "source": [
    "#Question 1\n",
    "str = \"A paragraph is a series of sentences that are organized and coherent\"\n",
    "new_str = str.split()\n",
    "count_word = len(new_str)\n",
    "print(f\"Number of word present in sentence is : {count_word}\")\n",
    "\n",
    "descending = sorted(new_str, reverse = True)\n",
    "print(f\"Descending : {descending}\")"
   ]
  },
  {
   "cell_type": "code",
   "execution_count": 8,
   "id": "9034e807-8f72-4117-994a-1f53d892acf3",
   "metadata": {},
   "outputs": [
    {
     "name": "stdout",
     "output_type": "stream",
     "text": [
      "Sum of all item in a list is : 250\n"
     ]
    }
   ],
   "source": [
    "#Question 2\n",
    "list = [25,50,75,100]\n",
    "sum = 0\n",
    "for i in list:\n",
    "    sum += i\n",
    "print(f\"Sum of all item in a list is : {sum}\")"
   ]
  },
  {
   "cell_type": "code",
   "execution_count": 9,
   "id": "34cc2539-3a37-447f-ada6-182631eefe09",
   "metadata": {},
   "outputs": [
    {
     "name": "stdout",
     "output_type": "stream",
     "text": [
      "Sorted List: ['Arrange', 'Bright', 'Information']\n"
     ]
    },
    {
     "name": "stdin",
     "output_type": "stream",
     "text": [
      "Enter Word:  Arrange\n"
     ]
    },
    {
     "name": "stdout",
     "output_type": "stream",
     "text": [
      "Index of Arrange is 0\n"
     ]
    }
   ],
   "source": [
    "#Question 3\n",
    "list1 = [\"Bright\", \"Information\", \"Arrange\"]\n",
    "list2 = []\n",
    "\n",
    "for item in list1:\n",
    "    list2.append(item)\n",
    "\n",
    "list2.sort()  \n",
    "\n",
    "print(\"Sorted List:\", list2)\n",
    "\n",
    "search = input(\"Enter Word: \")\n",
    "\n",
    "if search in list2:\n",
    "    position = list2.index(search)\n",
    "    print(f\"Index of {search} is {position}\")\n",
    "else:\n",
    "    print(\"Item not found\")\n"
   ]
  },
  {
   "cell_type": "code",
   "execution_count": 14,
   "id": "6619c1ab-8811-4238-a149-7a41854f1d41",
   "metadata": {},
   "outputs": [
    {
     "name": "stdin",
     "output_type": "stream",
     "text": [
      "Enter Short text:  Hi how are you\n"
     ]
    },
    {
     "name": "stdout",
     "output_type": "stream",
     "text": [
      "Dictionary Words: how, are, you\n",
      "Non Dictionary Words: hi\n"
     ]
    }
   ],
   "source": [
    "#Question 4\n",
    "dictionary_words_set = {\"how\", \"are\", \"you\", \"is\", \"it\", \"the\", \"and\", \"a\", \"to\", \"in\", \"we\"}\n",
    "\n",
    "sentence = input(\"Enter Short text: \")\n",
    "\n",
    "split_words = sentence.split()\n",
    "\n",
    "in_dictionary = []\n",
    "not_in_dictionary = []\n",
    "\n",
    "for word in split_words:\n",
    "    word = word.strip(\".,!?;:\").lower()  \n",
    "    \n",
    "    if word in dictionary_words_set:\n",
    "        in_dictionary.append(word)\n",
    "    else:\n",
    "        not_in_dictionary.append(word)\n",
    "\n",
    "print(f\"Dictionary Words: {', '.join(in_dictionary)}\")\n",
    "print(f\"Non Dictionary Words: {', '.join(not_in_dictionary)}\")\n"
   ]
  },
  {
   "cell_type": "code",
   "execution_count": 15,
   "id": "0cb116d5-f5f8-43a5-a347-c5cc1f1e617b",
   "metadata": {},
   "outputs": [
    {
     "name": "stdin",
     "output_type": "stream",
     "text": [
      "Enter a string to check if it is a Python keyword:  False\n"
     ]
    },
    {
     "name": "stdout",
     "output_type": "stream",
     "text": [
      "False is a Python keyword.\n"
     ]
    }
   ],
   "source": [
    "python_keywords = {\"False\", \"await\", \"else\", \"import\", \"pass\", \"None\", \"break\", \"except\", \"in\", \"raise\"}\n",
    "\n",
    "user_input = input(\"Enter a string to check if it is a Python keyword: \")\n",
    "\n",
    "if user_input in python_keywords:\n",
    "    print(f\"{user_input} is a Python keyword.\")\n",
    "else:\n",
    "    print(f\"{user_input} is not a Python keyword.\")"
   ]
  },
  {
   "cell_type": "code",
   "execution_count": null,
   "id": "3863d127-1b98-4de7-b97d-9dd5f6b5919d",
   "metadata": {},
   "outputs": [],
   "source": []
  }
 ],
 "metadata": {
  "kernelspec": {
   "display_name": "Python 3 (ipykernel)",
   "language": "python",
   "name": "python3"
  },
  "language_info": {
   "codemirror_mode": {
    "name": "ipython",
    "version": 3
   },
   "file_extension": ".py",
   "mimetype": "text/x-python",
   "name": "python",
   "nbconvert_exporter": "python",
   "pygments_lexer": "ipython3",
   "version": "3.12.7"
  }
 },
 "nbformat": 4,
 "nbformat_minor": 5
}
