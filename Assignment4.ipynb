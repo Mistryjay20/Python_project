{
 "cells": [
  {
   "cell_type": "code",
   "execution_count": 3,
   "id": "1cc56219-55fe-4388-b46e-0ad981523035",
   "metadata": {},
   "outputs": [
    {
     "name": "stdin",
     "output_type": "stream",
     "text": [
      "Enter Number 100\n",
      "Enter Number 200\n",
      "Enter Number 5\n"
     ]
    },
    {
     "name": "stdout",
     "output_type": "stream",
     "text": [
      "Maximum number is : 200\n"
     ]
    }
   ],
   "source": [
    "#Question 1\n",
    "def number(a,b,c):\n",
    "   if a>b and a>c:\n",
    "       return a\n",
    "   if b>a and b>c:\n",
    "       return b\n",
    "   if c>a and c>b:\n",
    "       return c\n",
    "\n",
    "num1 = int(input(\"Enter Number\"))\n",
    "num2 = int(input(\"Enter Number\"))\n",
    "num3 = int(input(\"Enter Number\"))\n",
    "\n",
    "print(f\"Maximum number is : {number(num1,num2,num3)}\")"
   ]
  },
  {
   "cell_type": "code",
   "execution_count": 4,
   "id": "097da4f5-adcb-488e-ad08-f211e49cc315",
   "metadata": {},
   "outputs": [
    {
     "name": "stdin",
     "output_type": "stream",
     "text": [
      "enter number 1234abcd\n"
     ]
    },
    {
     "name": "stdout",
     "output_type": "stream",
     "text": [
      "Otiginal String 1234abcd\n",
      "Reverse string is dcba4321\n"
     ]
    }
   ],
   "source": [
    "#Question 2\n",
    "def name(str):\n",
    "    return str[::-1]\n",
    "\n",
    "string = input(\"enter number\")\n",
    "print(f\"Otiginal String {string}\")\n",
    "print(f\"Reverse string is {name(string)}\")"
   ]
  },
  {
   "cell_type": "code",
   "execution_count": 6,
   "id": "942c1b60-7527-4bae-afc1-2f8acb568442",
   "metadata": {},
   "outputs": [
    {
     "name": "stdin",
     "output_type": "stream",
     "text": [
      "Enter number for factorial 5\n"
     ]
    },
    {
     "name": "stdout",
     "output_type": "stream",
     "text": [
      "Factorial of 5 is 120\n"
     ]
    }
   ],
   "source": [
    "#Question 3\n",
    "def fact(n):\n",
    "    result = 1\n",
    "    for i in range(1, n + 1):\n",
    "        result *= i\n",
    "    return result\n",
    "number = int(input(\"Enter number for factorial\"))\n",
    "print(f\"Factorial of {number} is {fact(number)}\")"
   ]
  },
  {
   "cell_type": "code",
   "execution_count": 13,
   "id": "a8cf39bc-034c-4e37-a398-7c108fbef26a",
   "metadata": {},
   "outputs": [
    {
     "name": "stdin",
     "output_type": "stream",
     "text": [
      "Enter number 11\n"
     ]
    },
    {
     "name": "stdout",
     "output_type": "stream",
     "text": [
      "Number out of range\n"
     ]
    }
   ],
   "source": [
    "#Question 4\n",
    "def check_range(number):\n",
    "    if number in range(11):\n",
    "        return \"Number present in range\"\n",
    "    else:\n",
    "        return \"Number out of range\"\n",
    "number = int(input(\"Enter number\"))\n",
    "print(check_range(number))"
   ]
  },
  {
   "cell_type": "code",
   "execution_count": 22,
   "id": "4b347bb4-ba8b-4f55-bc1e-652dbcc7a006",
   "metadata": {},
   "outputs": [
    {
     "name": "stdout",
     "output_type": "stream",
     "text": [
      "No. of Upper case character : 3\n",
      "No. of lower case character : 12\n"
     ]
    }
   ],
   "source": [
    "#Question 5 \n",
    "def count_string(str):\n",
    "    upper_string = 0\n",
    "    lower_string = 0\n",
    "    for char in str:\n",
    "        if char.isupper():\n",
    "            upper_string += 1\n",
    "        elif char.islower():\n",
    "            lower_string += 1\n",
    "    return upper_string, lower_string\n",
    "string = \"The quick Brow Fox\"\n",
    "upper, lower = count_string(string)\n",
    "\n",
    "print(f\"No. of Upper case character : {upper}\")\n",
    "print(f\"No. of lower case character : {lower}\")"
   ]
  },
  {
   "cell_type": "code",
   "execution_count": 23,
   "id": "aba9e101-ce31-42a8-ab96-b15934f89eb4",
   "metadata": {},
   "outputs": [
    {
     "name": "stdout",
     "output_type": "stream",
     "text": [
      "Original List : [1, 2, 3, 3, 3, 4, 5]\n",
      "Distinct list : [1, 2, 3, 4, 5]\n"
     ]
    }
   ],
   "source": [
    "#Queston 6\n",
    "def distict(list):\n",
    "    \n",
    "    new_list = []\n",
    "    for item in list:\n",
    "        if item not in new_list:\n",
    "            new_list.append(item)\n",
    "    return new_list\n",
    "\n",
    "list1 = [1,2,3,3,3,4,5]\n",
    "print(f\"Original List : {list1}\")\n",
    "print(f\"Distinct list : {distict(list1)}\")"
   ]
  },
  {
   "cell_type": "code",
   "execution_count": 28,
   "id": "0b8ca7f4-4685-44f9-8aa9-b6e50f7990a0",
   "metadata": {},
   "outputs": [
    {
     "name": "stdin",
     "output_type": "stream",
     "text": [
      "Enter a number:  29\n"
     ]
    },
    {
     "name": "stdout",
     "output_type": "stream",
     "text": [
      "29 is a prime number.\n"
     ]
    }
   ],
   "source": [
    "#Question 7 ** \n",
    "def is_prime(num):\n",
    "    if num <= 1:\n",
    "        return False\n",
    "\n",
    "    if num == 2 or num == 3:\n",
    "        return True\n",
    "    if num % 2 == 0 or num % 3 == 0:\n",
    "        return False\n",
    "\n",
    "    i = 5\n",
    "    while i * i <= num:\n",
    "        if num % i == 0 or num % (i + 2) == 0:\n",
    "            return False\n",
    "        i += 6\n",
    "    return True\n",
    "    \n",
    "number = int(input(\"Enter a number: \"))\n",
    "if is_prime(number):\n",
    "    print(f\"{number} is a prime number.\")\n",
    "else:\n",
    "    print(f\"{number} is not a prime number.\")    "
   ]
  },
  {
   "cell_type": "code",
   "execution_count": 43,
   "id": "b8d141ee-8a9b-4287-b2c9-fc4947e5af44",
   "metadata": {},
   "outputs": [
    {
     "name": "stdin",
     "output_type": "stream",
     "text": [
      "Enter number 121\n"
     ]
    },
    {
     "name": "stdout",
     "output_type": "stream",
     "text": [
      "121 is Palindrome \n"
     ]
    }
   ],
   "source": [
    "#Question 8\n",
    "def is_palindrome(num):\n",
    "    num_str = str(num)\n",
    "    if num_str == num_str[::-1] :\n",
    "        return True\n",
    "    else:\n",
    "        return False\n",
    "        \n",
    "number = int(input(\"Enter number\"))\n",
    "if is_palindrome(number):\n",
    "    print(f\"{number} is Palindrome \")\n",
    "else:\n",
    "    print(f\"{number} is not palindrome \")"
   ]
  },
  {
   "cell_type": "code",
   "execution_count": 36,
   "id": "b234b990-1550-47b9-a79b-fdd097054fe9",
   "metadata": {},
   "outputs": [
    {
     "name": "stdout",
     "output_type": "stream",
     "text": [
      "Multiplication of all number in list is 612\n"
     ]
    }
   ],
   "source": [
    "#Question 9\n",
    "def multi(number):\n",
    "    result = 1\n",
    "\n",
    "    for num in number:\n",
    "        result *= num\n",
    "    return result\n",
    "        \n",
    "\n",
    "list = [34,6,1,3]\n",
    "product = multi(list)\n",
    "print(f\"Multiplication of all number in list is {product}\")"
   ]
  },
  {
   "cell_type": "code",
   "execution_count": 37,
   "id": "a574c306-5d84-404f-9264-2377d43d4599",
   "metadata": {},
   "outputs": [
    {
     "name": "stdout",
     "output_type": "stream",
     "text": [
      "Multiplication of all number in list is 44\n"
     ]
    }
   ],
   "source": [
    "#Question 10\n",
    "def addition(number):\n",
    "    result = 0\n",
    "\n",
    "    for num in number:\n",
    "        result += num\n",
    "    return result\n",
    "        \n",
    "\n",
    "list = [34,6,1,3]\n",
    "Sum = addition(list)\n",
    "print(f\"sum of all number in list is {Sum}\")"
   ]
  },
  {
   "cell_type": "code",
   "execution_count": 39,
   "id": "26ed2d8c-7770-4595-8aa6-51136ec9685e",
   "metadata": {},
   "outputs": [
    {
     "name": "stdin",
     "output_type": "stream",
     "text": [
      "Enter Year 2023\n"
     ]
    },
    {
     "name": "stdout",
     "output_type": "stream",
     "text": [
      "2023 is not leap year\n"
     ]
    }
   ],
   "source": [
    "#Question 11\n",
    "def is_leap(number):\n",
    "    if number % 4 == 0:\n",
    "        return True\n",
    "        if number % 100 == 0:\n",
    "            return False\n",
    "            if number % 400 == 0:\n",
    "                return True\n",
    "        \n",
    "\n",
    "year = int(input(\"Enter Year\"))\n",
    "if is_leap(year):\n",
    "    print(f\"{year} is leap year\")\n",
    "else:\n",
    "    print(f\"{year} is not leap year\")"
   ]
  },
  {
   "cell_type": "code",
   "execution_count": 44,
   "id": "0810d769-89f4-4fb2-9c8a-fd96f6bfd508",
   "metadata": {},
   "outputs": [
    {
     "name": "stdin",
     "output_type": "stream",
     "text": [
      "Enter String svs\n"
     ]
    },
    {
     "name": "stdout",
     "output_type": "stream",
     "text": [
      "svs is Palindrome \n"
     ]
    }
   ],
   "source": [
    "#Question 12\n",
    "def is_palindrome(str):\n",
    "    return str == str[::-1]\n",
    "string = input(\"Enter String\")\n",
    "if is_palindrome(string):\n",
    "    print(f\"{string} is Palindrome \")\n",
    "else:\n",
    "    print(f\"{string} is not palindrome \")"
   ]
  },
  {
   "cell_type": "code",
   "execution_count": 50,
   "id": "ec771948-680a-4a98-8389-4153c281c5ea",
   "metadata": {},
   "outputs": [
    {
     "name": "stdout",
     "output_type": "stream",
     "text": [
      "First Number : 10\n",
      "Second Number : 20\n",
      "Swap number 1 : 20\n",
      "Swap number 2 : 10\n"
     ]
    }
   ],
   "source": [
    "def swap(num1 , num2):\n",
    "    temp = num1\n",
    "    num1 = num2\n",
    "    num2 = temp\n",
    "    return num1,num2\n",
    "number1 = 10\n",
    "number2 = 20\n",
    "\n",
    "print(f\"First Number : {number1}\")\n",
    "print(f\"Second Number : {number2}\")\n",
    "\n",
    "number1, number2 = swap(number1,number2)\n",
    "print(f\"Swap number 1 : {number1}\")\n",
    "print(f\"Swap number 2 : {number2}\")"
   ]
  },
  {
   "cell_type": "code",
   "execution_count": 51,
   "id": "11de7040-e748-4781-bb2b-c48a520ff0de",
   "metadata": {},
   "outputs": [
    {
     "name": "stdin",
     "output_type": "stream",
     "text": [
      "Enter Number 1 25\n",
      "Enter Number 2 25\n"
     ]
    },
    {
     "name": "stdout",
     "output_type": "stream",
     "text": [
      " Sum of 25 and 25 is 50\n"
     ]
    }
   ],
   "source": [
    "#Question 14\n",
    "def addition(n1, n2):\n",
    "    result = 0\n",
    "    result = n1 + n2\n",
    "    return result\n",
    "    \n",
    "num1 = int(input(\"Enter Number 1\"))\n",
    "num2 = int(input(\"Enter Number 2\"))\n",
    "Sum = addition(num1,num2)\n",
    "print(f\" Sum of {num1} and {num2} is {Sum}\")"
   ]
  },
  {
   "cell_type": "code",
   "execution_count": 61,
   "id": "b8b3e648-0f0a-4e9c-8390-16ce28cf62f4",
   "metadata": {},
   "outputs": [
    {
     "name": "stdin",
     "output_type": "stream",
     "text": [
      "Enter number 19\n"
     ]
    },
    {
     "name": "stdout",
     "output_type": "stream",
     "text": [
      "Multiplication of 19 is\n",
      "19 * 1 = 19\n",
      "19 * 2 = 38\n",
      "19 * 3 = 57\n",
      "19 * 4 = 76\n",
      "19 * 5 = 95\n",
      "19 * 6 = 114\n",
      "19 * 7 = 133\n",
      "19 * 8 = 152\n",
      "19 * 9 = 171\n",
      "19 * 10 = 190\n"
     ]
    }
   ],
   "source": [
    "#Question 15\n",
    "def multiplication(num):\n",
    "    for i in range(1,11):\n",
    "        multi = num * i\n",
    "        print (f\"{num} * {i} = {multi}\")\n",
    "number = int(input(\"Enter number\"))\n",
    "print(f\"Multiplication of {number} is\")\n",
    "multiplication(number)"
   ]
  },
  {
   "cell_type": "code",
   "execution_count": null,
   "id": "60675408-910a-45d8-b98c-7d058d0b4ee0",
   "metadata": {},
   "outputs": [],
   "source": []
  }
 ],
 "metadata": {
  "kernelspec": {
   "display_name": "Python 3 (ipykernel)",
   "language": "python",
   "name": "python3"
  },
  "language_info": {
   "codemirror_mode": {
    "name": "ipython",
    "version": 3
   },
   "file_extension": ".py",
   "mimetype": "text/x-python",
   "name": "python",
   "nbconvert_exporter": "python",
   "pygments_lexer": "ipython3",
   "version": "3.12.7"
  }
 },
 "nbformat": 4,
 "nbformat_minor": 5
}
