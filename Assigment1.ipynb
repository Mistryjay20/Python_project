{
 "cells": [
  {
   "cell_type": "code",
   "execution_count": 1,
   "id": "f769bb8f-b091-4bff-88a4-332edf9794bd",
   "metadata": {},
   "outputs": [
    {
     "name": "stdout",
     "output_type": "stream",
     "text": [
      "JayKumar Mistry\n",
      "Kumbhariya Gam\n"
     ]
    }
   ],
   "source": [
    "print(\"JayKumar Mistry\")\n",
    "print(\"Kumbhariya Gam\")"
   ]
  },
  {
   "cell_type": "code",
   "execution_count": 2,
   "id": "8533d98f-76ea-478d-8f69-daafa6da970d",
   "metadata": {},
   "outputs": [
    {
     "name": "stdout",
     "output_type": "stream",
     "text": [
      "Intrest is 6000.0\n"
     ]
    }
   ],
   "source": [
    "number = 50000\n",
    "rate = 12 / 100\n",
    "intrest = number * rate\n",
    "print(f\"Intrest is {intrest}\")"
   ]
  },
  {
   "cell_type": "code",
   "execution_count": 3,
   "id": "08e20dfc-6201-4643-891d-6c06379c2788",
   "metadata": {},
   "outputs": [
    {
     "name": "stdin",
     "output_type": "stream",
     "text": [
      "Enter Number 20\n"
     ]
    },
    {
     "name": "stdout",
     "output_type": "stream",
     "text": [
      "20 is even\n"
     ]
    }
   ],
   "source": [
    "number = int(input(\"Enter Number\"))\n",
    "remainder = number % 2\n",
    "if remainder == 0:\n",
    "    print(f\"{number} is even\")\n",
    "else:\n",
    "   print(f\"{number} is odd\")"
   ]
  },
  {
   "cell_type": "code",
   "execution_count": 23,
   "id": "239515b4-8bc3-456c-9edb-19572e3d8292",
   "metadata": {},
   "outputs": [
    {
     "name": "stdin",
     "output_type": "stream",
     "text": [
      "Enter Number 1\n",
      "Enter Number 3\n",
      "Enter Number 5\n"
     ]
    },
    {
     "name": "stdout",
     "output_type": "stream",
     "text": [
      "3 is middle number\n"
     ]
    }
   ],
   "source": [
    "number1 = int(input(\"Enter Number\"))\n",
    "number2 = int(input(\"Enter Number\"))\n",
    "number3 = int(input(\"Enter Number\"))\n",
    "\n",
    "if number2<number1 and number1<number3:\n",
    "    print(f\"{number1} is middle number\")\n",
    "elif number1<number2 and number2<number3:\n",
    "    print(f\"{number2} is middle number\") \n",
    "elif number1<number3 and number3<number2:\n",
    "    print(f\"{number3} is middle number\")\n",
    "else:\n",
    "    print(\"Invalid\")"
   ]
  },
  {
   "cell_type": "code",
   "execution_count": 25,
   "id": "f3519d63-a725-4b84-bf3e-c647344834c9",
   "metadata": {},
   "outputs": [
    {
     "name": "stdout",
     "output_type": "stream",
     "text": [
      "5 * 1 = 5\n",
      "5 * 2 = 10\n",
      "5 * 3 = 15\n",
      "5 * 4 = 20\n",
      "5 * 5 = 25\n",
      "5 * 6 = 30\n",
      "5 * 7 = 35\n",
      "5 * 8 = 40\n",
      "5 * 9 = 45\n",
      "5 * 10 = 50\n"
     ]
    }
   ],
   "source": [
    "number1 =5\n",
    "for i in range(1,11):\n",
    "    result = number1 * i\n",
    "    print(f\"{number1} * {i} = {result}\")"
   ]
  },
  {
   "cell_type": "code",
   "execution_count": 26,
   "id": "77792cd1-7cea-4db4-926c-718be6c944b6",
   "metadata": {},
   "outputs": [
    {
     "name": "stdin",
     "output_type": "stream",
     "text": [
      "Enter Number 50\n",
      "Enter Number 40\n",
      "Enter Number 35\n"
     ]
    },
    {
     "name": "stdout",
     "output_type": "stream",
     "text": [
      "35 is Smallest number\n"
     ]
    }
   ],
   "source": [
    "num1 = int(input(\"Enter Number\"))\n",
    "num2 = int(input(\"Enter Number\"))\n",
    "num3 = int(input(\"Enter Number\"))\n",
    "\n",
    "if num2>num1 and num1<num3:\n",
    "    print(f\"{num1} is Smallest number\")\n",
    "elif num1>num2 and num2<num3:\n",
    "    print(f\"{num2} is Smallest number\") \n",
    "elif num1>num3 and num3<num2:\n",
    "    print(f\"{num3} is Smallest number\")\n",
    "else:\n",
    "    print(\"Invalid\")"
   ]
  },
  {
   "cell_type": "code",
   "execution_count": 30,
   "id": "209e5761-71b1-4958-a36e-3a95a857e945",
   "metadata": {},
   "outputs": [
    {
     "name": "stdin",
     "output_type": "stream",
     "text": [
      "Enter Number 90\n",
      "Enter Number 80\n",
      "Enter Number 90\n"
     ]
    },
    {
     "name": "stdout",
     "output_type": "stream",
     "text": [
      "Total Marks are 260\n",
      "Pencentage : 86.66666666666667\n",
      "Grade B\n"
     ]
    }
   ],
   "source": [
    "num1 = int(input(\"Enter Number\"))\n",
    "num2 = int(input(\"Enter Number\"))\n",
    "num3 = int(input(\"Enter Number\"))\n",
    "\n",
    "Total = 300\n",
    "Total_marks = num1 + num2 + num3\n",
    "percentage = (Total_marks / 300) * 100\n",
    "print(f\"Total Marks are {Total_marks}\")\n",
    "print(f\"Pencentage : {percentage}\")\n",
    "if percentage >= 90:\n",
    "    print(\"Grade A\")\n",
    "elif percentage < 90 and percentage >= 80:\n",
    "    print(\"Grade B\")\n",
    "elif percentage < 80 and percentage >= 70:\n",
    "    print(\"Grade C\")\n",
    "elif percentage < 70 and percentage >= 60:\n",
    "    print(\"Grade D\")\n",
    "elif percentage < 60 and percentage >= 50:\n",
    "    print(\"Grade E\")\n",
    "elif percentage < 50:\n",
    "    print(\"Grade F\")\n",
    "else:\n",
    "    print(\"Invalid\")"
   ]
  },
  {
   "cell_type": "code",
   "execution_count": null,
   "id": "1b4ec232-cb35-43c1-926c-f36acc4ffc6e",
   "metadata": {},
   "outputs": [],
   "source": []
  }
 ],
 "metadata": {
  "kernelspec": {
   "display_name": "Python 3 (ipykernel)",
   "language": "python",
   "name": "python3"
  },
  "language_info": {
   "codemirror_mode": {
    "name": "ipython",
    "version": 3
   },
   "file_extension": ".py",
   "mimetype": "text/x-python",
   "name": "python",
   "nbconvert_exporter": "python",
   "pygments_lexer": "ipython3",
   "version": "3.12.7"
  }
 },
 "nbformat": 4,
 "nbformat_minor": 5
}
