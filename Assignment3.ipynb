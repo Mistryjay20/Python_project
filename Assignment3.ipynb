{
 "cells": [
  {
   "cell_type": "code",
   "execution_count": 3,
   "id": "76237256-154d-49f7-85d3-3a2d3ddc14cb",
   "metadata": {},
   "outputs": [
    {
     "name": "stdout",
     "output_type": "stream",
     "text": [
      "Sum of list item is : 15\n"
     ]
    }
   ],
   "source": [
    "#Question 1\n",
    "\n",
    "list = [1, 2, 3, 4, 5]\n",
    "sum = 0\n",
    "for item in list:\n",
    "    sum += item\n",
    "print(f\"Sum of list item is : {sum}\")"
   ]
  },
  {
   "cell_type": "code",
   "execution_count": 7,
   "id": "397b34fc-675d-4e11-9f74-74572143d383",
   "metadata": {},
   "outputs": [
    {
     "name": "stdout",
     "output_type": "stream",
     "text": [
      "List Original : [1, 2, 3, 4, 5, 5, 8, 4, 2]\n",
      "List after removing duplicate value : [1, 2, 3, 4, 5, 8]\n"
     ]
    }
   ],
   "source": [
    "#Question2\n",
    "list = [1, 2, 3, 4, 5, 5, 8, 4, 2]\n",
    "print(f\"List Original : {list}\")\n",
    "unique_list = []\n",
    "for dulp in list:\n",
    "    if dulp not in unique_list:\n",
    "        unique_list.append(dulp)\n",
    "\n",
    "\n",
    "print(f\"List after removing duplicate value : {unique_list}\")"
   ]
  },
  {
   "cell_type": "code",
   "execution_count": 9,
   "id": "6e89b530-34f9-4590-8e3d-fe706519d71d",
   "metadata": {},
   "outputs": [
    {
     "name": "stdout",
     "output_type": "stream",
     "text": [
      "List Original : [1, 2, 3, 4, 5, 5, 8, 4, 2]\n",
      "List after removing duplicate value : [1, 3, 5, 5]\n"
     ]
    }
   ],
   "source": [
    "#Question 3\n",
    "list = [1, 2, 3, 4, 5, 5, 8, 4, 2]\n",
    "print(f\"List Original : {list}\")\n",
    "unique_list = []\n",
    "for dulp in list:\n",
    "    if dulp % 2 != 0:\n",
    "        unique_list.append(dulp)\n",
    "\n",
    "\n",
    "print(f\"List after removing duplicate value : {unique_list}\")"
   ]
  },
  {
   "cell_type": "code",
   "execution_count": 18,
   "id": "184e9e7f-9e7c-47a5-ad90-e59012bc5e44",
   "metadata": {},
   "outputs": [
    {
     "name": "stdout",
     "output_type": "stream",
     "text": [
      "Sorted List: ['Arrange', 'Bright', 'Information']\n"
     ]
    },
    {
     "name": "stdin",
     "output_type": "stream",
     "text": [
      "Enter Word:  Bright\n"
     ]
    },
    {
     "name": "stdout",
     "output_type": "stream",
     "text": [
      "Index of Bright is 1\n"
     ]
    }
   ],
   "source": [
    "#Question 4\n",
    "\n",
    "list1 = [\"Bright\", \"Information\", \"Arrange\"]\n",
    "list2 = []\n",
    "\n",
    "for item in list1:\n",
    "    list2.append(item)\n",
    "\n",
    "list2.sort()  \n",
    "\n",
    "print(\"Sorted List:\", list2)\n",
    "\n",
    "search = input(\"Enter Word: \")\n",
    "\n",
    "if search in list2:\n",
    "    position = list2.index(search)\n",
    "    print(f\"Index of {search} is {position}\")\n",
    "else:\n",
    "    print(\"Item not found\")\n"
   ]
  },
  {
   "cell_type": "code",
   "execution_count": 21,
   "id": "a0e2b02c-bd76-4659-a624-5a1eae04eb1a",
   "metadata": {},
   "outputs": [
    {
     "name": "stdout",
     "output_type": "stream",
     "text": [
      "List 1 : ['Jay', 'Dev', 'Harshit', 'Aryan', 'Harsh', 'Bhavin']\n",
      "List 2 : [59, 55, 43, 143, 47, 63]\n",
      "List to Dictionary\n",
      "{'Jay': 59, 'Dev': 55, 'Harshit': 43, 'Aryan': 143, 'Harsh': 47, 'Bhavin': 63}\n"
     ]
    }
   ],
   "source": [
    "#Question 5\n",
    "\n",
    "List1 = [\"Jay\",\"Dev\",\"Harshit\",\"Aryan\",\"Harsh\",\"Bhavin\"]\n",
    "List2 = [59,55,43,143,47,63]\n",
    "\n",
    "Dictionary = dict(zip(List1,List2))\n",
    "print(f\"List 1 : {List1}\")\n",
    "print(f\"List 2 : {List2}\")\n",
    "print(\"List to Dictionary\")\n",
    "print(Dictionary)"
   ]
  },
  {
   "cell_type": "code",
   "execution_count": 27,
   "id": "889a2c5c-d3b9-43da-9c84-e51065736ec9",
   "metadata": {},
   "outputs": [
    {
     "name": "stdout",
     "output_type": "stream",
     "text": [
      "Jay\n",
      "Dev\n",
      "Harshit\n",
      "Aryan\n",
      "Harsh\n",
      "Bhavin\n"
     ]
    }
   ],
   "source": [
    "#Question 6\n",
    "Dictionary = {'Jay': 59, 'Dev': 55, 'Harshit': 43, 'Aryan': 143, 'Harsh': 47, 'Bhavin': 63}\n",
    "\n",
    "#print(Dictionary.keys())\n",
    "\n",
    "for keys in Dictionary:\n",
    "    print(keys)"
   ]
  },
  {
   "cell_type": "code",
   "execution_count": 29,
   "id": "cd893afa-7f81-4269-bfd0-fb782f788c7c",
   "metadata": {},
   "outputs": [
    {
     "name": "stdout",
     "output_type": "stream",
     "text": [
      "59\n",
      "55\n",
      "43\n",
      "143\n",
      "47\n",
      "63\n"
     ]
    }
   ],
   "source": [
    "#Question 7\n",
    "Dictionary = {'Jay': 59, 'Dev': 55, 'Harshit': 43, 'Aryan': 143, 'Harsh': 47, 'Bhavin': 63}\n",
    "\n",
    "values = Dictionary.values()\n",
    "\n",
    "for value in values:\n",
    "    print(value)"
   ]
  },
  {
   "cell_type": "code",
   "execution_count": 41,
   "id": "5fcbde6c-be58-4439-aba0-55fd43bd9b22",
   "metadata": {},
   "outputs": [
    {
     "name": "stdout",
     "output_type": "stream",
     "text": [
      "{'Jay': 59, 'Dev': 55, 'Harshit': 43, 'Aryan': 143, 'Harsh': 47, 'Bhavin': 63}\n"
     ]
    }
   ],
   "source": [
    "#Question 8\n",
    "\n",
    "Dict1 = {\"Jay\": 59, \"Dev\": 55, \"Harshit\": 43}\n",
    "Dict2 = {\"Aryan\": 143, \"Harsh\": 47, \"Bhavin\": 63}\n",
    "\n",
    "# list1 = list(Dict1.items())\n",
    "# list2 = list(Dict2.items())\n",
    "\n",
    "# # Append the lists\n",
    "# merged_list = list1 + list2\n",
    "\n",
    "# # Convert the merged list of tuples back into a dictionary\n",
    "# merged_dict = dict(merged_list)\n",
    "\n",
    "# # Print the merged dictionary\n",
    "# print(\"Merged Dictionary:\", merged_dict)\n",
    "\n",
    "Dict1.update(Dict2)\n",
    "print(Dict1)"
   ]
  },
  {
   "cell_type": "code",
   "execution_count": 2,
   "id": "c083f272-ee5d-43d3-92fb-43cbdfcc4c27",
   "metadata": {},
   "outputs": [
    {
     "name": "stdout",
     "output_type": "stream",
     "text": [
      "Keys value of 5 is C\n"
     ]
    }
   ],
   "source": [
    "#Question 9 (***)\n",
    "\n",
    "dict = {\"A\": 10, \"B\": 50, \"C\": 5}\n",
    "min_value = float('inf')\n",
    "min_key = []\n",
    "for key in dict:\n",
    "    if dict[key] < min_value:\n",
    "        min_value = dict[key]\n",
    "        min_key = key\n",
    "print(f\"Keys value of {min_value} is {min_key}\")\n"
   ]
  },
  {
   "cell_type": "code",
   "execution_count": 5,
   "id": "d6378d90-1d1d-4db5-9680-4ea9ba20da88",
   "metadata": {},
   "outputs": [
    {
     "name": "stdout",
     "output_type": "stream",
     "text": [
      " repeated items in a tuple are : [1, 2, 3, 4]\n"
     ]
    }
   ],
   "source": [
    "#Question 10\n",
    "data = (1,2,3,4,5,1,2,4,6,3,4)\n",
    "count = {}\n",
    "\n",
    "for item in data:\n",
    "    if item in count:\n",
    "        count[item] += 1\n",
    "    else:\n",
    "        count[item] = 1\n",
    "        \n",
    "repeat_item = []\n",
    "for keys in count:\n",
    "    if count[keys] > 1:\n",
    "        repeat_item.append(keys)\n",
    "print(f\" repeated items in a tuple are : {repeat_item}\")"
   ]
  },
  {
   "cell_type": "code",
   "execution_count": 4,
   "id": "96096d0d-dfc4-44c4-b6c6-c5e424b51973",
   "metadata": {},
   "outputs": [
    {
     "name": "stdout",
     "output_type": "stream",
     "text": [
      "1351\n",
      "794\n",
      "654\n",
      "Sorted Prices: [654, 794, 1351]\n",
      "Book3: 654\n",
      "Book2: 794\n",
      "Book1: 1351\n"
     ]
    }
   ],
   "source": [
    "#Question 11 \n",
    "books = {\"Book1\": 1351, \"Book2\": 794, \"Book3\": 654}\n",
    "dict2 = []\n",
    "\n",
    "\n",
    "values = list(books.values())\n",
    "for item in values:\n",
    "    dict2.append(item)\n",
    "    print(item)\n",
    "\n",
    "\n",
    "values.sort()\n",
    "print(\"Sorted Prices:\", values)\n",
    "\n",
    "\n",
    "sorted_books = []\n",
    "for price in values:\n",
    "    for book, book_price in books.items():\n",
    "        if book_price == price:\n",
    "            sorted_books.append((book, book_price))\n",
    "            break\n",
    "\n",
    "\n",
    "for book, price in sorted_books:\n",
    "    print(f\"{book}: {price}\")"
   ]
  },
  {
   "cell_type": "code",
   "execution_count": 2,
   "id": "4e26850b-f60c-46f3-ab65-47bec7de6190",
   "metadata": {},
   "outputs": [],
   "source": [
    "#Question 12 (incomplete)\n"
   ]
  },
  {
   "cell_type": "code",
   "execution_count": 5,
   "id": "fa7d1b48-dd46-4418-b831-a09c97d4e80e",
   "metadata": {},
   "outputs": [
    {
     "name": "stdout",
     "output_type": "stream",
     "text": [
      "Original Tuple : ('apple', 'banana', 'cherry')\n",
      "After removing : ('apple', 'banana')\n"
     ]
    }
   ],
   "source": [
    "#Question 13\n",
    "\n",
    "thistuple = (\"apple\", \"banana\", \"cherry\")\n",
    "to_remove = \"cherry\"\n",
    "new_tuple = ()\n",
    "for item in thistuple:\n",
    "    if item != to_remove:\n",
    "        new_tuple += (item,)\n",
    "        \n",
    "print(f\"Original Tuple : {thistuple}\")\n",
    "print(f\"After removing : {new_tuple}\")"
   ]
  },
  {
   "cell_type": "code",
   "execution_count": 22,
   "id": "364478e4-1c13-47f9-8925-ecb69a30395b",
   "metadata": {},
   "outputs": [
    {
     "name": "stdin",
     "output_type": "stream",
     "text": [
      "Enter number 4\n"
     ]
    },
    {
     "name": "stdout",
     "output_type": "stream",
     "text": [
      "Set after adding a single member: {1, 2, 3, 4}\n"
     ]
    }
   ],
   "source": [
    "#Question 14\n",
    "\n",
    "my_set = {1, 2, 3}\n",
    "add = int(input(\"Enter number\"))\n",
    "my_set.add(add)\n",
    "\n",
    "print(\"Set after adding a single member:\", my_set)\n",
    "\n"
   ]
  },
  {
   "cell_type": "code",
   "execution_count": 20,
   "id": "d30a5fff-b567-4ead-b287-09ae4b445eb5",
   "metadata": {},
   "outputs": [
    {
     "name": "stdin",
     "output_type": "stream",
     "text": [
      "Enter the item to remove:  5\n"
     ]
    },
    {
     "name": "stdout",
     "output_type": "stream",
     "text": [
      "Set after removing the item: {1, 2, 3, 4}\n"
     ]
    }
   ],
   "source": [
    "#Question 15\n",
    "# Create a set\n",
    "my_set = {1, 2, 3, 4, 5}\n",
    "\n",
    "# Item to remove\n",
    "item_to_remove = int(input(\"Enter the item to remove: \"))\n",
    "\n",
    "# Remove the item if it exists\n",
    "if item_to_remove in my_set:\n",
    "    my_set.remove(item_to_remove)\n",
    "else:\n",
    "    print(f\"Item {item_to_remove} not found in the set.\")\n",
    "\n",
    "# Display the updated set\n",
    "print(\"Set after removing the item:\", my_set)\n",
    "\n"
   ]
  },
  {
   "cell_type": "code",
   "execution_count": 23,
   "id": "f50f8f38-bfa9-4766-8b63-186f0f85eef1",
   "metadata": {},
   "outputs": [
    {
     "name": "stdout",
     "output_type": "stream",
     "text": [
      "Set: {34, 67, 23, 89, 12, 45}\n",
      "Maximum value: 89\n",
      "Minimum value: 12\n"
     ]
    }
   ],
   "source": [
    "#Question 16\n",
    "my_set = {23, 45, 12, 89, 34, 67}\n",
    "max_value = next(iter(my_set))\n",
    "min_value = next(iter(my_set))\n",
    "\n",
    "for num in my_set:\n",
    "    if num > max_value:\n",
    "        max_value = num\n",
    "    if num < min_value:\n",
    "        min_value = num\n",
    "\n",
    "print(\"Set:\", my_set)\n",
    "print(\"Maximum value:\", max_value)\n",
    "print(\"Minimum value:\", min_value)"
   ]
  },
  {
   "cell_type": "code",
   "execution_count": 27,
   "id": "909a11ef-aba3-4153-bd87-663fea3df230",
   "metadata": {},
   "outputs": [
    {
     "name": "stdout",
     "output_type": "stream",
     "text": [
      "Updated dictionary : {0: 10, 1: 20, 2: 30}\n"
     ]
    }
   ],
   "source": [
    "#Question 17\n",
    "Dict = {0: 10, 1: 20}\n",
    " #Expected Result : {0: 10, 1: 20, 2: 30}\n",
    "Dict2 = {2: 30} \n",
    "Dict.update(Dict2)\n",
    "print(f\"Updated dictionary : {Dict}\")"
   ]
  },
  {
   "cell_type": "code",
   "execution_count": 28,
   "id": "897a01b8-3dd7-4b2d-9a88-deda87c57f53",
   "metadata": {},
   "outputs": [
    {
     "name": "stdout",
     "output_type": "stream",
     "text": [
      "{1: 10, 2: 20, 3: 30, 4: 40, 5: 50, 6: 60}\n"
     ]
    }
   ],
   "source": [
    "#Question 18\n",
    "dic1={1:10, 2:20}\n",
    "dic2={3:30, 4:40}\n",
    "dic3={5:50,6:60}\n",
    "dic1.update(dic2)\n",
    "dic1.update(dic3)\n",
    "print(dic1)"
   ]
  },
  {
   "cell_type": "code",
   "execution_count": null,
   "id": "dfa781b3-131c-49ae-a8a3-2cea016751ac",
   "metadata": {},
   "outputs": [],
   "source": []
  }
 ],
 "metadata": {
  "kernelspec": {
   "display_name": "Python 3 (ipykernel)",
   "language": "python",
   "name": "python3"
  },
  "language_info": {
   "codemirror_mode": {
    "name": "ipython",
    "version": 3
   },
   "file_extension": ".py",
   "mimetype": "text/x-python",
   "name": "python",
   "nbconvert_exporter": "python",
   "pygments_lexer": "ipython3",
   "version": "3.12.7"
  }
 },
 "nbformat": 4,
 "nbformat_minor": 5
}
