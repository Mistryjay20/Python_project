{
 "cells": [
  {
   "cell_type": "code",
   "execution_count": 3,
   "id": "c067c083-1575-421a-9519-b0709526a184",
   "metadata": {},
   "outputs": [
    {
     "name": "stdout",
     "output_type": "stream",
     "text": [
      "When the dead return\n",
      "they will come to you in dream\n",
      "and in waking, will be the bird\n",
      "knocking, knocking against glass, seeking\n",
      "a way in, will masquerade\n",
      "as the wind, its voice made audible\n",
      "by the tongues of leaves, greedily\n",
      "lapping, as the wavesâ€™ self-made fugue\n",
      "is a turning and returning, the dea\n"
     ]
    }
   ],
   "source": [
    "#Question1\n",
    "poem = open(\"Text1.txt\",\"r\")\n",
    "print(poem.read())"
   ]
  },
  {
   "cell_type": "code",
   "execution_count": 10,
   "id": "3b7e7ce0-6594-42bf-8594-1c553637ec5c",
   "metadata": {},
   "outputs": [
    {
     "name": "stdout",
     "output_type": "stream",
     "text": [
      "A boy is playing there.\n",
      "There is a playground.\n",
      "An aeroplane is in the sky.\n",
      "The sky is pink.\n",
      "Alphabets and numbers are allowed in the password.\n",
      "\n",
      "Number of lines not starting with 'T': 3\n"
     ]
    }
   ],
   "source": [
    "#Question2\n",
    "with open(\"story.txt\", \"r\") as story:\n",
    "    count = 0\n",
    "    for line in story:\n",
    "         stripped_line = line.strip()\n",
    "         if not stripped_line.startswith(\"T\"):\n",
    "            count += 1\n",
    "         print(stripped_line)  # Print the line without trailing newlines or spaces\n",
    "    print(f\"\\nNumber of lines not starting with 'T': {count}\")\n"
   ]
  },
  {
   "cell_type": "code",
   "execution_count": 13,
   "id": "51ec6c49-06a4-4163-a8ea-f067cd9c97ba",
   "metadata": {},
   "outputs": [
    {
     "name": "stdout",
     "output_type": "stream",
     "text": [
      "Number of word present in text is 35\n"
     ]
    }
   ],
   "source": [
    "#Question3\n",
    "with open(\"Text1.txt\",\"r\") as text:\n",
    "    for char in text:\n",
    "        word = len(char)\n",
    "    print(f\"Number of word present in text is {word}\")"
   ]
  },
  {
   "cell_type": "code",
   "execution_count": 21,
   "id": "75f39859-f741-4751-ac59-9cabd09a619b",
   "metadata": {},
   "outputs": [
    {
     "name": "stdout",
     "output_type": "stream",
     "text": [
      "'the' is 6 times repeated in file\n"
     ]
    }
   ],
   "source": [
    "#Question4\n",
    "def count_word(file):\n",
    "    count = 0\n",
    "    with open(\"Text1.txt\",\"r\") as text:\n",
    "        for word in text:\n",
    "            splite = word.lower().split()\n",
    "            count += splite.count(\"the\")\n",
    "    return f\"'the' is {count} times repeated in file\"\n",
    "file = \"Text1.txt\"\n",
    "folder = count_word(file)\n",
    "print(folder)"
   ]
  },
  {
   "cell_type": "code",
   "execution_count": 3,
   "id": "c15da1d6-e5ba-4f47-a2ae-ea4827b7b1fb",
   "metadata": {},
   "outputs": [
    {
     "name": "stdout",
     "output_type": "stream",
     "text": [
      "Word with less than 4 character\n",
      "the , to , you , in , and , in , be , the , a , way , in, , as , the , its , by , the , of , as , the , is , a , and , the , dea\n"
     ]
    }
   ],
   "source": [
    "#Question5\n",
    "with open(\"Text1.txt\",\"r\") as text:\n",
    "    short_word = []\n",
    "    for char in text:\n",
    "        words = char.split()\n",
    "        for word in words:\n",
    "            if len(word) < 4:\n",
    "                short_word.append(word)\n",
    "    print(f\"Word with less than 4 character\")\n",
    "    print(\" , \".join(short_word))\n",
    "    "
   ]
  },
  {
   "cell_type": "code",
   "execution_count": 13,
   "id": "2d9a54bb-3da2-4e5d-9be0-5a15b0fd8f25",
   "metadata": {},
   "outputs": [
    {
     "name": "stdout",
     "output_type": "stream",
     "text": [
      "2\n"
     ]
    }
   ],
   "source": [
    "#Question6\n",
    "with open(\"Text2.txt\",\"r\") as text:\n",
    "    count = 0\n",
    "    for line in text:\n",
    "        word = line.lower().split()\n",
    "        for words in word:\n",
    "            if words == \"this\" or words == \"these\":\n",
    "                count += 1\n",
    "    print(count)\n"
   ]
  },
  {
   "cell_type": "code",
   "execution_count": 24,
   "id": "859a842c-ddc0-416c-983f-f7496d728706",
   "metadata": {},
   "outputs": [
    {
     "name": "stdout",
     "output_type": "stream",
     "text": [
      "Number of words ending with 'e': 14\n"
     ]
    },
    {
     "data": {
      "text/plain": [
       "14"
      ]
     },
     "execution_count": 24,
     "metadata": {},
     "output_type": "execute_result"
    }
   ],
   "source": [
    "#Question7\n",
    "def count_words_ending_with_e(file_path):\n",
    "    count = 0\n",
    "    with open(file_path, \"r\") as file:\n",
    "        for line in file:\n",
    "            words = line.split()  # Split the line into words\n",
    "            for word in words:\n",
    "                if word.lower().endswith(\"e\"):  # Check if the word ends with 'e'\n",
    "                    count += 1\n",
    "        print(f\"Number of words ending with 'e': {count}\")\n",
    "        return count\n",
    "\n",
    "# Example usage\n",
    "file_name = \"Text1.txt\"\n",
    "count_words_ending_with_e(file_name)\n"
   ]
  },
  {
   "cell_type": "code",
   "execution_count": null,
   "id": "2a9340fb-b975-4955-9579-a75aacace849",
   "metadata": {},
   "outputs": [],
   "source": []
  }
 ],
 "metadata": {
  "kernelspec": {
   "display_name": "Python 3 (ipykernel)",
   "language": "python",
   "name": "python3"
  },
  "language_info": {
   "codemirror_mode": {
    "name": "ipython",
    "version": 3
   },
   "file_extension": ".py",
   "mimetype": "text/x-python",
   "name": "python",
   "nbconvert_exporter": "python",
   "pygments_lexer": "ipython3",
   "version": "3.12.7"
  }
 },
 "nbformat": 4,
 "nbformat_minor": 5
}
