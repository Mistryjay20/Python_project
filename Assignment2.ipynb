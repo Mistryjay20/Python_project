{
 "cells": [
  {
   "cell_type": "code",
   "execution_count": 2,
   "id": "2212fcd5-204b-4ffd-8243-164337d2fbd1",
   "metadata": {},
   "outputs": [
    {
     "name": "stdout",
     "output_type": "stream",
     "text": [
      "['Welcome', 'to', 'the', 'world', 'of', 'AI']\n"
     ]
    }
   ],
   "source": [
    "string = \"Welcome to the world of AI\"\n",
    "reverse_string = string.split()\n",
    "print(reverse_string)"
   ]
  },
  {
   "cell_type": "code",
   "execution_count": 7,
   "id": "e85cd749-b954-49db-9a5b-2958090855e6",
   "metadata": {},
   "outputs": [
    {
     "name": "stdout",
     "output_type": "stream",
     "text": [
      "cookie\n",
      "Vanila\n"
     ]
    }
   ],
   "source": [
    "string = \"Chocolate cookie\"\n",
    "output_1 = string.split()[-1]\n",
    "output_2 = \"Vanila\"\n",
    "print(output_1)\n",
    "print(output_2)\n"
   ]
  },
  {
   "cell_type": "code",
   "execution_count": 9,
   "id": "28aa3945-ae7e-49d4-a30b-e2ec3f13d500",
   "metadata": {},
   "outputs": [
    {
     "name": "stdout",
     "output_type": "stream",
     "text": [
      "WceohwloA\n"
     ]
    }
   ],
   "source": [
    "string = \"Welcome to the world of AI\"\n",
    "output_1 = string[::3]\n",
    "print(output_1)"
   ]
  },
  {
   "cell_type": "code",
   "execution_count": 11,
   "id": "6e92a8fb-7f6c-4c0c-b714-61279a4de0cc",
   "metadata": {},
   "outputs": [
    {
     "name": "stdout",
     "output_type": "stream",
     "text": [
      "3\n",
      "\"IOT, or ar ficial intelligence, is revolu onizing various industries. \n",
      "IOT technologies are becoming increasingly important in today's world. \n",
      "The future of IOT looks promising.\n"
     ]
    }
   ],
   "source": [
    "String = \"\"\"\"AI, or ar ficial intelligence, is revolu onizing various industries. \n",
    "AI technologies are becoming increasingly important in today's world. \n",
    "The future of AI looks promising.\"\"\"\n",
    "count = String.count(\"AI\")\n",
    "print(count)\n",
    "replace_AI = String.replace(\"AI\",\"IOT\")\n",
    "print(replace_AI)"
   ]
  },
  {
   "cell_type": "code",
   "execution_count": 4,
   "id": "169305a1-422d-4669-9e46-af9150e0fb70",
   "metadata": {},
   "outputs": [
    {
     "name": "stdout",
     "output_type": "stream",
     "text": [
      "WTTWOA\n"
     ]
    }
   ],
   "source": [
    "string = \"Welcome to the world of AI\"\n",
    "split = string.split();\n",
    "upper = \"\".join(split.upper()[0] for split in string.split())\n",
    "\n",
    "print(upper)"
   ]
  },
  {
   "cell_type": "code",
   "execution_count": 5,
   "id": "f9da3c15-ebac-41c6-86d3-404ba5aaf35a",
   "metadata": {},
   "outputs": [
    {
     "name": "stdout",
     "output_type": "stream",
     "text": [
      "['Welcome', 'to', 'the', 'world', 'of', 'AI']\n"
     ]
    }
   ],
   "source": [
    "string = \"Welcome to the world of AI\"\n",
    "split = string.split();\n",
    "\n",
    "print(split)"
   ]
  },
  {
   "cell_type": "code",
   "execution_count": 6,
   "id": "b02622f9-3ce3-4b90-b913-b1b12200f5b7",
   "metadata": {},
   "outputs": [
    {
     "name": "stdout",
     "output_type": "stream",
     "text": [
      "24\n"
     ]
    }
   ],
   "source": [
    "string = \"Welcome to the world of AI\"\n",
    "print(string.index(\"AI\"))"
   ]
  },
  {
   "cell_type": "code",
   "execution_count": null,
   "id": "9206820b-c687-48d0-a1e4-9bd14d813637",
   "metadata": {},
   "outputs": [],
   "source": []
  }
 ],
 "metadata": {
  "kernelspec": {
   "display_name": "Python 3 (ipykernel)",
   "language": "python",
   "name": "python3"
  },
  "language_info": {
   "codemirror_mode": {
    "name": "ipython",
    "version": 3
   },
   "file_extension": ".py",
   "mimetype": "text/x-python",
   "name": "python",
   "nbconvert_exporter": "python",
   "pygments_lexer": "ipython3",
   "version": "3.12.7"
  }
 },
 "nbformat": 4,
 "nbformat_minor": 5
}
