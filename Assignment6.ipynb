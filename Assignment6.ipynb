{
 "cells": [
  {
   "cell_type": "code",
   "execution_count": 4,
   "id": "d8a8fcf2-655a-4552-b190-8f12516e43cf",
   "metadata": {},
   "outputs": [
    {
     "name": "stdout",
     "output_type": "stream",
     "text": [
      "150\n"
     ]
    }
   ],
   "source": [
    "#Question 1\n",
    "import numpy as np\n",
    "array = np.array([10,20,30,40,50])\n",
    "add = 0\n",
    "for sum in array:\n",
    "    add += sum\n",
    "print(add)"
   ]
  },
  {
   "cell_type": "code",
   "execution_count": 5,
   "id": "0054db61-5964-4508-92da-c7c67423fb47",
   "metadata": {},
   "outputs": [
    {
     "name": "stdout",
     "output_type": "stream",
     "text": [
      "100\n"
     ]
    }
   ],
   "source": [
    "#Question 2\n",
    "array = np.array([10,20,40,3,2,100])\n",
    "large = np.max(array)\n",
    "print(large)"
   ]
  },
  {
   "cell_type": "code",
   "execution_count": 7,
   "id": "22cd8cd7-60ca-4267-8546-db25804d91ee",
   "metadata": {},
   "outputs": [
    {
     "name": "stdout",
     "output_type": "stream",
     "text": [
      "[6, 9, 10]\n"
     ]
    }
   ],
   "source": [
    "#Question 3\n",
    "a = np.array([2, 6, 1, 9, 10, 3, 27])\n",
    "count = []\n",
    "for i in a:\n",
    "    if i in range(5,11):\n",
    "        count.append(i)\n",
    "print(count)\n",
    "    "
   ]
  },
  {
   "cell_type": "code",
   "execution_count": 14,
   "id": "9523057a-06a2-4d93-9fe5-d4400916ce56",
   "metadata": {},
   "outputs": [
    {
     "name": "stdout",
     "output_type": "stream",
     "text": [
      "Rotated array: [3, 4, 5, 6, 7, 1, 2]\n"
     ]
    }
   ],
   "source": [
    "#Question 4\n",
    "def rotate(arr, d, n):\n",
    "    d = d % n  # Handle cases where d > n\n",
    "    arr[:] = arr[d:] + arr[:d]  # Using slicing to rotate\n",
    "\n",
    "# Example Usage\n",
    "arr = [1, 2, 3, 4, 5, 6, 7]\n",
    "d = 2\n",
    "n = len(arr)\n",
    "\n",
    "rotate(arr, d, n)\n",
    "print(\"Rotated array:\", arr)\n"
   ]
  },
  {
   "cell_type": "code",
   "execution_count": 23,
   "id": "ee694e90-af63-40b4-aebe-8d0cca991c95",
   "metadata": {},
   "outputs": [
    {
     "name": "stdout",
     "output_type": "stream",
     "text": [
      "[ 6  1  9 10  3 27  2]\n"
     ]
    }
   ],
   "source": [
    "#Question 5\n",
    "def slice(arr,k):\n",
    "    k = k % len(arr)\n",
    "    return np.concatenate((arr[k:],arr[:k]))\n",
    "a = np.array([2, 6, 1, 9, 10, 3, 27])\n",
    "k=1\n",
    "result = slice(a,k)\n",
    "print(result)"
   ]
  },
  {
   "cell_type": "code",
   "execution_count": 33,
   "id": "0f8b80a3-1978-4680-bfc5-c7ba61a426d0",
   "metadata": {},
   "outputs": [
    {
     "name": "stdout",
     "output_type": "stream",
     "text": [
      "remainder is 9 and multiplication is 61250000\n"
     ]
    }
   ],
   "source": [
    "#Question 6\n",
    "def calculate(arr,n):\n",
    "    multi = 1\n",
    "    remainder = 0\n",
    "    for i in arr:\n",
    "        multi *= i\n",
    "        remainder = multi % n\n",
    "    return f\"remainder is {remainder} and multiplication is {multi}\"\n",
    "arr = [100, 10, 5, 25, 35, 14]\n",
    "n = 11\n",
    "sum = calculate(arr,n)\n",
    "print(sum)"
   ]
  },
  {
   "cell_type": "code",
   "execution_count": 35,
   "id": "7683f950-1c6e-4ca7-a4c8-4d6da4d33f0d",
   "metadata": {},
   "outputs": [
    {
     "name": "stdout",
     "output_type": "stream",
     "text": [
      "[[ 5 12]\n",
      " [21 32]]\n"
     ]
    }
   ],
   "source": [
    "#Question 7\n",
    "num1 = np.array([[1,2],[3,4]])\n",
    "num2 = np.array([[5,6],[7,8]])\n",
    "result = np.multiply(num1,num2)\n",
    "print(result)"
   ]
  },
  {
   "cell_type": "code",
   "execution_count": 37,
   "id": "3c63a242-d9d3-4578-afba-ec87fa892812",
   "metadata": {},
   "outputs": [
    {
     "name": "stdout",
     "output_type": "stream",
     "text": [
      "Original : \n",
      "[[1 2]\n",
      " [3 4]]\n",
      "transpose : \n",
      "[[1 3]\n",
      " [2 4]]\n"
     ]
    }
   ],
   "source": [
    "#Question 8\n",
    "num1 = np.array([[1,2],[3,4]])\n",
    "result = np.transpose(num1)\n",
    "print(f\"Original : \")\n",
    "print(num1)\n",
    "print(f\"transpose : \")\n",
    "print(result)"
   ]
  },
  {
   "cell_type": "code",
   "execution_count": 3,
   "id": "9e5c9b7f-80b8-4e66-aa62-e54e1a3a2e43",
   "metadata": {},
   "outputs": [
    {
     "name": "stdout",
     "output_type": "stream",
     "text": [
      "Original Array\n",
      "/n\n",
      "[[0 1 2]\n",
      " [3 4 5]\n",
      " [6 7 8]]\n",
      "\n",
      "Modified array\n",
      "[[1 0 2]\n",
      " [4 3 5]\n",
      " [7 6 8]]\n"
     ]
    }
   ],
   "source": [
    "#Question 9\n",
    "import numpy as np\n",
    "array= np.array([[0, 1, 2],[3, 4, 5],[6, 7, 8]])\n",
    "arr = np.arange(9).reshape(3,3)\n",
    "print(\"Original Array\")\n",
    "print(\"/n\")\n",
    "print(array)\n",
    "print(\"\\nModified array\")\n",
    "print(arr[:,[1,0,2]])"
   ]
  },
  {
   "cell_type": "code",
   "execution_count": 4,
   "id": "86414aa5-4a78-4014-af39-74e432e9d142",
   "metadata": {},
   "outputs": [
    {
     "name": "stdout",
     "output_type": "stream",
     "text": [
      "Original Array\n",
      "/n\n",
      "[[0 1 2]\n",
      " [3 4 5]\n",
      " [6 7 8]]\n",
      "\n",
      "Modified array\n",
      "[[3 4 5]\n",
      " [0 1 2]\n",
      " [6 7 8]]\n"
     ]
    }
   ],
   "source": [
    "#Question 10\n",
    "array= np.array([[0, 1, 2],[3, 4, 5],[6, 7, 8]])\n",
    "arr = np.arange(9).reshape(3,3)\n",
    "print(\"Original Array\")\n",
    "print(\"/n\")\n",
    "print(array)\n",
    "print(\"\\nModified array\")\n",
    "print(arr[[1,0,2],:])"
   ]
  },
  {
   "cell_type": "code",
   "execution_count": 13,
   "id": "0514558c-eea0-4dd1-b7cf-1a13f559174b",
   "metadata": {},
   "outputs": [
    {
     "name": "stdout",
     "output_type": "stream",
     "text": [
      "Sum Of Two matrix is : \n",
      "[[ 9 11 13]\n",
      " [15 17 19]\n",
      " [21 23 25]]\n"
     ]
    }
   ],
   "source": [
    "#Question 11\n",
    "arr1= np.array([[0, 1, 2],[3, 4, 5],[6, 7, 8]])\n",
    "arr2= np.array([[9, 10, 11],[12, 13, 14],[15, 16, 17]])\n",
    "sum = np.add(arr1,arr2)\n",
    "print(f\"Sum Of Two matrix is : \")\n",
    "print(sum)"
   ]
  },
  {
   "cell_type": "code",
   "execution_count": 14,
   "id": "316e2c95-6280-4705-b7b5-e187a089f8a5",
   "metadata": {},
   "outputs": [
    {
     "name": "stdout",
     "output_type": "stream",
     "text": [
      "Multiplication Of Two matrix is : \n",
      "[[  0  10  22]\n",
      " [ 36  52  70]\n",
      " [ 90 112 136]]\n"
     ]
    }
   ],
   "source": [
    "#Question 12\n",
    "arr1= np.array([[0, 1, 2],[3, 4, 5],[6, 7, 8]])\n",
    "arr2= np.array([[9, 10, 11],[12, 13, 14],[15, 16, 17]])\n",
    "sum = np.multiply(arr1,arr2)\n",
    "print(f\"Multiplication Of Two matrix is : \")\n",
    "print(sum)"
   ]
  },
  {
   "cell_type": "code",
   "execution_count": 15,
   "id": "2c7461eb-98e1-4b53-8735-5c9d39450b80",
   "metadata": {},
   "outputs": [
    {
     "name": "stdout",
     "output_type": "stream",
     "text": [
      "product of matrix is : \n",
      "[[ 42  45  48]\n",
      " [150 162 174]\n",
      " [258 279 300]]\n"
     ]
    }
   ],
   "source": [
    "#Question 13\n",
    "arr1= np.array([[0, 1, 2],[3, 4, 5],[6, 7, 8]])\n",
    "arr2= np.array([[9, 10, 11],[12, 13, 14],[15, 16, 17]])\n",
    "sum = np.dot(arr1,arr2)\n",
    "print(f\"product of matrix is : \")\n",
    "print(sum)"
   ]
  },
  {
   "cell_type": "code",
   "execution_count": 17,
   "id": "ee6b64e7-03e4-4be5-ada9-5b34288cab12",
   "metadata": {},
   "outputs": [
    {
     "name": "stdout",
     "output_type": "stream",
     "text": [
      "Addition of matrix is : \n",
      "[[ 9 11 13]\n",
      " [15 17 19]\n",
      " [21 23 25]]\n",
      "Subtraction of matrix is : \n",
      "[[-9 -9 -9]\n",
      " [-9 -9 -9]\n",
      " [-9 -9 -9]]\n"
     ]
    }
   ],
   "source": [
    "#Question 14\n",
    "arr1= np.array([[0, 1, 2],[3, 4, 5],[6, 7, 8]])\n",
    "arr2= np.array([[9, 10, 11],[12, 13, 14],[15, 16, 17]])\n",
    "sum = np.add(arr1,arr2)\n",
    "sum1 = np.subtract(arr1,arr2)\n",
    "print(f\"Addition of matrix is : \")\n",
    "print(sum)\n",
    "print(f\"Subtraction of matrix is : \")\n",
    "print(sum1)"
   ]
  },
  {
   "cell_type": "code",
   "execution_count": 19,
   "id": "1e1b400a-fb67-4a76-aaaf-cbdf432336b6",
   "metadata": {},
   "outputs": [
    {
     "name": "stdout",
     "output_type": "stream",
     "text": [
      "[[0 3 6]\n",
      " [1 4 7]\n",
      " [2 5 8]]\n"
     ]
    }
   ],
   "source": [
    "#Question 15\n",
    "arr1= np.array([[0, 1, 2],[3, 4, 5],[6, 7, 8]])\n",
    "trans = np.transpose(arr1)\n",
    "print(trans)"
   ]
  },
  {
   "cell_type": "code",
   "execution_count": 33,
   "id": "a5b5381b-4e2e-4974-b0a8-69ad4ad2c8cf",
   "metadata": {},
   "outputs": [
    {
     "name": "stdin",
     "output_type": "stream",
     "text": [
      "Enter Matrix Size 5\n"
     ]
    },
    {
     "name": "stdout",
     "output_type": "stream",
     "text": [
      "[[4 4 7 6 6]\n",
      " [6 2 4 2 2]\n",
      " [6 3 7 5 3]\n",
      " [9 9 4 1 2]\n",
      " [7 2 4 3 8]]\n"
     ]
    }
   ],
   "source": [
    "#Question 16\n",
    "import random\n",
    "# def matrix(arr,n):\n",
    "#     arr = np.arange(9).reshape(n,n)\n",
    "#     return arr\n",
    "def generate_matrix(n):\n",
    "    arr = np.random.randint(1,10,(n,n))\n",
    "    return arr\n",
    "# arr = []\n",
    "n = int(input(\"Enter Matrix Size\"))\n",
    "#matrix(arr,n)\n",
    "matrix = generate_matrix(n)\n",
    "print(matrix)"
   ]
  },
  {
   "cell_type": "code",
   "execution_count": 36,
   "id": "1c9a52ee-6239-4c01-ad97-a12cdae8de98",
   "metadata": {},
   "outputs": [
    {
     "name": "stdout",
     "output_type": "stream",
     "text": [
      "Original list = [12.23, 13.32, 100, 36.32]\n",
      " One-dimensional NumPy array: [ 12.23  13.32 100.    36.32]\n"
     ]
    }
   ],
   "source": [
    "#Question 17\n",
    "list = [12.23, 13.32, 100, 36.32]\n",
    "numpy = np.array(list)\n",
    "print(f\"Original list = {list}\")\n",
    "print(f\" One-dimensional NumPy array: {numpy}\")"
   ]
  },
  {
   "cell_type": "code",
   "execution_count": 38,
   "id": "15381457-4a99-4b58-9675-612f9969c489",
   "metadata": {},
   "outputs": [
    {
     "data": {
      "text/plain": [
       "array([[ 2,  3,  4],\n",
       "       [ 5,  6,  7],\n",
       "       [ 8,  9, 10]])"
      ]
     },
     "execution_count": 38,
     "metadata": {},
     "output_type": "execute_result"
    }
   ],
   "source": [
    "#Question 18\n",
    "def matrix(arr):\n",
    "    arr = np.arange(2,11).reshape(3,3)\n",
    "    return arr\n",
    "arr = []\n",
    "matrix(arr)"
   ]
  },
  {
   "cell_type": "code",
   "execution_count": null,
   "id": "bb68db97-b285-4884-83d1-06da5e23123b",
   "metadata": {},
   "outputs": [],
   "source": [
    "#Question 19\n"
   ]
  },
  {
   "cell_type": "code",
   "execution_count": 40,
   "id": "ea9851eb-fcd4-4024-912e-15c996056cfb",
   "metadata": {},
   "outputs": [
    {
     "data": {
      "text/plain": [
       "array([12, 13, 14, 15, 16, 17, 18, 19, 20, 21, 22, 23, 24, 25, 26, 27, 28,\n",
       "       29, 30, 31, 32, 33, 34, 35, 36, 37])"
      ]
     },
     "execution_count": 40,
     "metadata": {},
     "output_type": "execute_result"
    }
   ],
   "source": [
    "#Question 20\n",
    "def matrix(arr):\n",
    "    arr = np.arange(12,38)\n",
    "    return arr\n",
    "arr = []\n",
    "matrix(arr)"
   ]
  },
  {
   "cell_type": "code",
   "execution_count": 43,
   "id": "00641db1-b270-4c73-9a13-7bb3aa16839a",
   "metadata": {},
   "outputs": [
    {
     "name": "stdout",
     "output_type": "stream",
     "text": [
      "Original Array\n",
      "[12 13 14 15 16 17 18 19 20 21 22 23 24 25 26 27 28 29 30 31 32 33 34 35\n",
      " 36 37]\n",
      "Reverse Array\n",
      "[37 36 35 34 33 32 31 30 29 28 27 26 25 24 23 22 21 20 19 18 17 16 15 14\n",
      " 13 12]\n"
     ]
    }
   ],
   "source": [
    "#Question 21\n",
    "arr = np.array([12, 13, 14, 15, 16, 17, 18, 19, 20, 21, 22, 23, 24, 25, 26, 27, 28,\n",
    "       29, 30, 31, 32, 33, 34, 35, 36, 37])\n",
    "reverse = arr[::-1]\n",
    "print(\"Original Array\")\n",
    "print(arr)\n",
    "print(\"Reverse Array\")\n",
    "print(reverse)"
   ]
  },
  {
   "cell_type": "code",
   "execution_count": 46,
   "id": "20b6a653-35b3-4c9c-a858-19a23a4c644e",
   "metadata": {},
   "outputs": [
    {
     "name": "stdout",
     "output_type": "stream",
     "text": [
      "Original \n",
      "[1, 2, 3, 4]\n",
      " Array converted to a float type:\n",
      "[1. 2. 3. 4.]\n"
     ]
    }
   ],
   "source": [
    "#Question 22\n",
    "arr = [1, 2, 3, 4]\n",
    "result = np.array(arr, dtype = \"float\")\n",
    "print(\"Original \")\n",
    "print(arr)\n",
    "print(\" Array converted to a float type:\")\n",
    "print(result)"
   ]
  },
  {
   "cell_type": "code",
   "execution_count": 19,
   "id": "39b62f52-85c5-4807-b58d-cc79b7987362",
   "metadata": {},
   "outputs": [
    {
     "name": "stdout",
     "output_type": "stream",
     "text": [
      "[[0 1 0 1 0 1 0 1]\n",
      " [1 0 1 0 1 0 1 0]\n",
      " [0 1 0 1 0 1 0 1]\n",
      " [1 0 1 0 1 0 1 0]\n",
      " [0 1 0 1 0 1 0 1]\n",
      " [1 0 1 0 1 0 1 0]\n",
      " [0 1 0 1 0 1 0 1]\n",
      " [1 0 1 0 1 0 1 0]]\n"
     ]
    }
   ],
   "source": [
    "#Question 23\n",
    "import numpy as np\n",
    "import random\n",
    "def create_matrix():\n",
    "    matrix = np.zeros((8, 8), dtype=int) \n",
    "    matrix[1::2, ::2] = 1 \n",
    "    matrix[::2, 1::2] = 1  \n",
    "    return matrix\n",
    "matrix = create_matrix()\n",
    "print(matrix)"
   ]
  },
  {
   "cell_type": "code",
   "execution_count": 20,
   "id": "9a2139ac-0e80-4eec-b495-4413df4fa76d",
   "metadata": {},
   "outputs": [
    {
     "name": "stdout",
     "output_type": "stream",
     "text": [
      "List to array\n",
      "[1 2 3 4 5 6 7 8]\n",
      "  \n",
      "Tuple to array\n",
      "[[8 4 6]\n",
      " [1 2 3]]\n"
     ]
    }
   ],
   "source": [
    "#Question 24\n",
    "list = [1,2,3,4,5,6,7,8]\n",
    "tuple = ((8,4,6),(1,2,3))\n",
    "print(\"List to array\")\n",
    "arr1 = np.array(list)\n",
    "print(arr1)\n",
    "print(\"  \")\n",
    "print(\"Tuple to array\")\n",
    "arr2 = np.array(tuple)\n",
    "print(arr2)"
   ]
  },
  {
   "cell_type": "code",
   "execution_count": 23,
   "id": "907285f7-055f-47f5-a1e5-10772b9201ea",
   "metadata": {},
   "outputs": [
    {
     "name": "stdout",
     "output_type": "stream",
     "text": [
      "Original Array : [10 20 30]\n",
      "After append values to the end of the array: [10 20 30 40 50 60 70 80]\n"
     ]
    }
   ],
   "source": [
    "#Question 25\n",
    "arr = np.array([10,20,30])\n",
    "arr2 = np.array([40,50,60,70,80])\n",
    "new_arr = np.append(arr,arr2)\n",
    "print(f\"Original Array : {arr}\")\n",
    "print(f\"After append values to the end of the array: {new_arr}\")"
   ]
  },
  {
   "cell_type": "code",
   "execution_count": 25,
   "id": "a84c73e0-5e36-485b-aa3e-5a91c8c9dfd2",
   "metadata": {},
   "outputs": [
    {
     "name": "stdout",
     "output_type": "stream",
     "text": [
      " Compareeach elementof array1 and array : [ True False False  True False]\n"
     ]
    }
   ],
   "source": [
    "#Question 26\n",
    "arr = np.array([0,10,20,40,60])\n",
    "arr2 = np.array([0,40])\n",
    "result = np.isin(arr,arr2)\n",
    "print(f\" Compareeach elementof array1 and array : {result}\")\n",
    "        "
   ]
  },
  {
   "cell_type": "code",
   "execution_count": 33,
   "id": "6a8b0b4a-e360-4489-b360-b5e5e20fade3",
   "metadata": {},
   "outputs": [
    {
     "name": "stdout",
     "output_type": "stream",
     "text": [
      "Original arr : [10 10 20 20 30 30]\n",
      " Unique elements of the above array : [10 20 30]\n",
      "Original arr : \n",
      "[[1 1]\n",
      " [2 3]]\n",
      " Unique elements of the above array : [1 2 3]\n"
     ]
    }
   ],
   "source": [
    "#Question 27\n",
    "arr = np.array([10, 10, 20, 20, 30, 30])\n",
    "unique = np.unique(arr)\n",
    "print(f\"Original arr : {arr}\")\n",
    "print(f\" Unique elements of the above array : {unique}\")\n",
    "\n",
    "arr2 = np.array([[1,1],[2,3]])\n",
    "unique = np.unique(arr2)\n",
    "print(f\"Original arr : \")\n",
    "print(arr2)\n",
    "print(f\" Unique elements of the above array : {unique}\")"
   ]
  },
  {
   "cell_type": "code",
   "execution_count": 47,
   "id": "32fda7c4-525b-458b-95f9-ccb1a0e7ee57",
   "metadata": {},
   "outputs": [
    {
     "name": "stdout",
     "output_type": "stream",
     "text": [
      "Set difference between two arrays : \n",
      "[ 0 20 30 50 60 70 80]\n"
     ]
    }
   ],
   "source": [
    "#Question 28 \n",
    "Array1 = np.array([0, 10, 20, 40, 60, 80])\n",
    "Array2 = np.array([10, 30, 40, 50, 70])\n",
    "unique_in_1 = Array1[~np.isin(Array1,Array2)]\n",
    "unique_in_2 = Array2[~np.isin(Array2,Array1)]\n",
    "unique = np.unique(np.concatenate((unique_in_1,unique_in_2)))\n",
    "print(\"Set difference between two arrays : \")\n",
    "print(unique)"
   ]
  },
  {
   "cell_type": "code",
   "execution_count": 45,
   "id": "c698381b-c07a-4433-a26e-e5941573db1c",
   "metadata": {},
   "outputs": [
    {
     "name": "stdout",
     "output_type": "stream",
     "text": [
      "[ 0 10 20 30 40 50 60 70 80]\n"
     ]
    }
   ],
   "source": [
    "#Question 29\n",
    "Array1 = np.array([0, 10, 20, 40, 60, 80])\n",
    "Array2 = np.array([10, 30, 40, 50, 70])\n",
    "unique = np.unique(np.concatenate((Array1,Array2)))\n",
    "print(unique)"
   ]
  },
  {
   "cell_type": "code",
   "execution_count": 50,
   "id": "375c4a7c-ba24-4fe1-8028-fea52c4db0ac",
   "metadata": {},
   "outputs": [
    {
     "name": "stdout",
     "output_type": "stream",
     "text": [
      "Original array : \n",
      "[1 2 3 4]\n",
      "Repeating 2 times :\n",
      "[1 2 3 4 1 2 3 4]\n",
      "Repeating 3 times :\n",
      "[1 2 3 4 1 2 3 4 1 2 3 4]\n"
     ]
    }
   ],
   "source": [
    "#Question 30\n",
    "Original = np.array([1,2,3,4])\n",
    "concate_2 = np.concatenate([Original]*2)\n",
    "concate_3 = np.concatenate([Original]*3)\n",
    "print(\"Original array : \")\n",
    "print(Original)\n",
    "print(\"Repeating 2 times :\")\n",
    "print(concate_2)\n",
    "print(\"Repeating 3 times :\")\n",
    "print(concate_3)"
   ]
  },
  {
   "cell_type": "code",
   "execution_count": 52,
   "id": "4cb24925-96a4-41b3-be09-a1911c992104",
   "metadata": {},
   "outputs": [
    {
     "name": "stdout",
     "output_type": "stream",
     "text": [
      "Maximam : 4\n",
      "Minimum : 1\n"
     ]
    }
   ],
   "source": [
    "#Question 31\n",
    "Original = np.array([1,2,3,4])\n",
    "max = np.max(Original)\n",
    "min = np.min(Original)\n",
    "print(f\"Maximam : {max}\")\n",
    "print(f\"Minimum : {min}\")"
   ]
  },
  {
   "cell_type": "code",
   "execution_count": 62,
   "id": "385b1533-71fe-462f-843a-da0f220dad8b",
   "metadata": {},
   "outputs": [
    {
     "name": "stdout",
     "output_type": "stream",
     "text": [
      "9 rows and 0 columns\n",
      "(9,)\n",
      "3 rows and 3 columns\n",
      "[[1 2 3]\n",
      " [4 5 6]\n",
      " [7 8 9]]\n",
      "New Shape\n",
      "(3, 3)\n"
     ]
    }
   ],
   "source": [
    "#Question 32\n",
    "arr = np.array([1,2,3,4,5,6,7,8,9])\n",
    "print(\"9 rows and 0 columns\")\n",
    "print(arr.shape)\n",
    "print(\"3 rows and 3 columns\")\n",
    "arr_2D = arr.reshape(3,3)\n",
    "print(arr_2D)\n",
    "print(\"New Shape\")\n",
    "print(arr_2D.shape)"
   ]
  },
  {
   "cell_type": "code",
   "execution_count": 65,
   "id": "490e4270-35f5-4002-b604-bd2b3435a8a7",
   "metadata": {},
   "outputs": [
    {
     "name": "stdout",
     "output_type": "stream",
     "text": [
      "Reshape array to (3,2)\n",
      "[[1 2]\n",
      " [3 4]\n",
      " [5 6]]\n",
      "Reshape array to (2,3)\n",
      "[[1 2 3]\n",
      " [4 5 6]]\n"
     ]
    }
   ],
   "source": [
    "#Question 33\n",
    "arr = np.array([1,2,3,4,5,6])\n",
    "print(\"Reshape array to (3,2)\")\n",
    "print(arr.reshape(3,2))\n",
    "print(\"Reshape array to (2,3)\")\n",
    "print(arr.reshape(2,3))"
   ]
  },
  {
   "cell_type": "code",
   "execution_count": 70,
   "id": "cc4e8798-c73e-4316-ae2d-5ef31bb5a738",
   "metadata": {},
   "outputs": [
    {
     "name": "stdout",
     "output_type": "stream",
     "text": [
      "[[2 2 2 2 2]\n",
      " [2 2 2 2 2]\n",
      " [2 2 2 2 2]\n",
      " [2 2 2 2 2]\n",
      " [2 2 2 2 2]\n",
      " [2 2 2 2 2]]\n"
     ]
    }
   ],
   "source": [
    "def create_matrix(arr):\n",
    "    arr = np.random.randint(2,3,(3,5))\n",
    "    concate = np.concatenate([arr]*2)\n",
    "    return concate\n",
    "arr = []\n",
    "result = create_matrix(arr)\n",
    "print(result)"
   ]
  },
  {
   "cell_type": "code",
   "execution_count": null,
   "id": "8825859b-f8f1-4662-bfd2-4f8693b9a49c",
   "metadata": {},
   "outputs": [],
   "source": []
  }
 ],
 "metadata": {
  "kernelspec": {
   "display_name": "Python 3 (ipykernel)",
   "language": "python",
   "name": "python3"
  },
  "language_info": {
   "codemirror_mode": {
    "name": "ipython",
    "version": 3
   },
   "file_extension": ".py",
   "mimetype": "text/x-python",
   "name": "python",
   "nbconvert_exporter": "python",
   "pygments_lexer": "ipython3",
   "version": "3.12.7"
  }
 },
 "nbformat": 4,
 "nbformat_minor": 5
}
