{
 "cells": [
  {
   "cell_type": "code",
   "execution_count": 3,
   "id": "8e10afcc-47b5-4262-9dd8-73533bbc935a",
   "metadata": {},
   "outputs": [
    {
     "name": "stdin",
     "output_type": "stream",
     "text": [
      "Enter Sentence :  Hello, jay\n"
     ]
    },
    {
     "name": "stdout",
     "output_type": "stream",
     "text": [
      "['Hello,', 'jay']\n",
      "Total Word in Sentence : 2\n"
     ]
    }
   ],
   "source": [
    "#Question 1\n",
    "str = input(\"Enter Sentence : \")\n",
    "split_str = str.split()\n",
    "count_word = len(split_str)\n",
    "print(split_str)\n",
    "print(f\"Total Word in Sentence : {count_word}\")"
   ]
  },
  {
   "cell_type": "code",
   "execution_count": 14,
   "id": "2416271a-d615-4ff9-851a-aa67cf9ada4b",
   "metadata": {},
   "outputs": [
    {
     "name": "stdout",
     "output_type": "stream",
     "text": [
      "Total Marks from all dictionaries: 683\n"
     ]
    }
   ],
   "source": [
    "def calculate_total_marks(marks_dicts):\n",
    "    total = 0\n",
    "    for marks_dict in marks_dicts:\n",
    "        total += sum(marks_dict.values())\n",
    "    return total\n",
    "\n",
    "# Example array of dictionaries\n",
    "marks_list = [\n",
    "    {\"Math\": 85, \"Physics\": 90, \"Chemistry\": 78},  # Dictionary 1\n",
    "    {\"Biology\": 88, \"English\": 92},               # Dictionary 2\n",
    "    {\"History\": 80, \"Geography\": 75, \"Computer\": 95}  # Dictionary 3\n",
    "]\n",
    "\n",
    "# Call the function with the list of dictionaries\n",
    "total_marks = calculate_total_marks(marks_list)\n",
    "print(\"Total Marks from all dictionaries:\", total_marks)\n"
   ]
  },
  {
   "cell_type": "code",
   "execution_count": 16,
   "id": "dee6ef01-5188-463a-a83b-00abe878db57",
   "metadata": {},
   "outputs": [
    {
     "name": "stdout",
     "output_type": "stream",
     "text": [
      "Uncommon Words: ['Learning', 'from']\n"
     ]
    }
   ],
   "source": [
    "#question 3\n",
    "def uncommon_word(str1,str2):\n",
    "    word1 = str1.split()\n",
    "    word2 = str2.split()\n",
    "    word_count = {}\n",
    "    for word in word1:\n",
    "        word_count[word] = word_count.get(word, 0) + 1\n",
    "        \n",
    "    for word in word2:\n",
    "        word_count[word] = word_count.get(word, 0) + 1\n",
    "\n",
    "    uncommon_words = [word for word, count in word_count.items() if count == 1]\n",
    "    return uncommon_words\n",
    "str1 = \"Geeks Of Geeks\"\n",
    "str2 = \"Learning from Geeks Of Geeks\"\n",
    "\n",
    "uncommon = uncommon_word(str1, str2)\n",
    "print(\"Uncommon Words:\", uncommon)"
   ]
  },
  {
   "cell_type": "code",
   "execution_count": 2,
   "id": "d658ca36-7b79-43f5-a07c-dd0894362885",
   "metadata": {},
   "outputs": [
    {
     "name": "stdin",
     "output_type": "stream",
     "text": [
      "Enter string hello world, hello python\n",
      "Enter string to count hello\n"
     ]
    },
    {
     "name": "stdout",
     "output_type": "stream",
     "text": [
      "The frequency of 'hello' in the given string is: 2\n"
     ]
    }
   ],
   "source": [
    "#question 4\n",
    "def frequency(main_string,substring):\n",
    "    freq = main_string.count(substring)\n",
    "    return freq\n",
    "\n",
    "main_string = input(\"Enter string\")\n",
    "substring = input(\"Enter string to count\")\n",
    "\n",
    "frequency = frequency(main_string, substring)\n",
    "print(f\"The frequency of '{substring}' in the given string is: {frequency}\")"
   ]
  },
  {
   "cell_type": "code",
   "execution_count": 7,
   "id": "606f1bc8-f445-42cd-b8e0-69ebffbf0665",
   "metadata": {},
   "outputs": [
    {
     "name": "stdout",
     "output_type": "stream",
     "text": [
      "geeksforgeeks learn programming refer to\n"
     ]
    }
   ],
   "source": [
    "#Question 5\n",
    "def sentence_in_ascending(str):\n",
    "    splite = str.split()\n",
    "    sent = []\n",
    "    for word in splite:\n",
    "        sent.append(word)\n",
    "        sent.sort()\n",
    "    return \" \".join(sent)\n",
    "    \n",
    "\n",
    "string = \"to learn programming refer geeksforgeeks\"\n",
    "sentence = sentence_in_ascending(string)\n",
    "print(sentence)"
   ]
  },
  {
   "cell_type": "code",
   "execution_count": null,
   "id": "f45ac376-b586-48ef-a48a-65947ec3514f",
   "metadata": {},
   "outputs": [],
   "source": []
  }
 ],
 "metadata": {
  "kernelspec": {
   "display_name": "Python 3 (ipykernel)",
   "language": "python",
   "name": "python3"
  },
  "language_info": {
   "codemirror_mode": {
    "name": "ipython",
    "version": 3
   },
   "file_extension": ".py",
   "mimetype": "text/x-python",
   "name": "python",
   "nbconvert_exporter": "python",
   "pygments_lexer": "ipython3",
   "version": "3.12.7"
  }
 },
 "nbformat": 4,
 "nbformat_minor": 5
}
