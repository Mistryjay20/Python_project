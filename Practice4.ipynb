{
 "cells": [
  {
   "cell_type": "code",
   "execution_count": 6,
   "id": "dff20900-ce7b-448a-9306-844e08fed1b4",
   "metadata": {},
   "outputs": [
    {
     "name": "stdout",
     "output_type": "stream",
     "text": [
      "[5, 4, 3, 2, 1]\n"
     ]
    }
   ],
   "source": [
    "#Question 1\n",
    "def arrange(list):\n",
    "    list.sort(reverse = True)\n",
    "    return list\n",
    "    \n",
    "list = [1,5,3,4,2]\n",
    "sorted = arrange(list)\n",
    "print(sorted)"
   ]
  },
  {
   "cell_type": "code",
   "execution_count": 8,
   "id": "b50afcae-1cb7-4324-b8e0-fcc9ec6b4596",
   "metadata": {
    "jupyter": {
     "source_hidden": true
    }
   },
   "outputs": [
    {
     "name": "stdout",
     "output_type": "stream",
     "text": [
      "Maximun : 40\n",
      "Minimun : 1\n"
     ]
    }
   ],
   "source": [
    "#Question 2\n",
    "def max_min(list):\n",
    "    max = list[0]\n",
    "    min = list[0]\n",
    "\n",
    "    for num in list:\n",
    "        if num > max:\n",
    "            max = num\n",
    "        if num < min:\n",
    "            min = num\n",
    "    return max,min\n",
    "\n",
    "list = [1,2,5,3,6,7,40]\n",
    "max,min = max_min(list)\n",
    "print(f\"Maximun : {max}\")\n",
    "print(f\"Minimun : {min}\")"
   ]
  },
  {
   "cell_type": "code",
   "execution_count": 1,
   "id": "39646ad4-f0aa-412f-b4b3-2819c026c754",
   "metadata": {},
   "outputs": [
    {
     "name": "stdout",
     "output_type": "stream",
     "text": [
      "Employee sorted by name\n",
      "{'empid': 102, 'emp_name': 'Alice', 'salary': 60000}\n",
      "{'empid': 103, 'emp_name': 'Bob', 'salary': 55000}\n",
      "{'empid': 104, 'emp_name': 'Eve', 'salary': 45000}\n",
      "{'empid': 101, 'emp_name': 'John', 'salary': 50000}\n",
      "/n Employee sorted by salary (descending)\n",
      "{'empid': 102, 'emp_name': 'Alice', 'salary': 60000}\n",
      "{'empid': 103, 'emp_name': 'Bob', 'salary': 55000}\n",
      "{'empid': 101, 'emp_name': 'John', 'salary': 50000}\n",
      "{'empid': 104, 'emp_name': 'Eve', 'salary': 45000}\n"
     ]
    }
   ],
   "source": [
    "employees = [\n",
    "    {\"empid\": 101, \"emp_name\": \"John\", \"salary\": 50000},\n",
    "    {\"empid\": 102, \"emp_name\": \"Alice\", \"salary\": 60000},\n",
    "    {\"empid\": 103, \"emp_name\": \"Bob\", \"salary\": 55000},\n",
    "    {\"empid\": 104, \"emp_name\": \"Eve\", \"salary\": 45000},\n",
    "]\n",
    "\n",
    "def sort_by_name(employees):\n",
    "    return employees[\"emp_name\"]\n",
    "def sort_by_salary(employees):\n",
    "    return employees[\"salary\"]\n",
    "\n",
    "sorted_by_name = sorted(employees, key=sort_by_name)\n",
    "\n",
    "sorted_by_salary = sorted(employees, key=sort_by_salary, reverse = True)\n",
    "\n",
    "print(\"Employee sorted by name\")\n",
    "for emp in sorted_by_name:\n",
    "    print(emp)\n",
    "    \n",
    "print(\"/n Employee sorted by salary (descending)\")\n",
    "for sal in sorted_by_salary:\n",
    "    print(sal)\n"
   ]
  },
  {
   "cell_type": "code",
   "execution_count": 2,
   "id": "04ca353f-c411-4fc7-b706-0ec4f21dfafa",
   "metadata": {},
   "outputs": [
    {
     "name": "stdout",
     "output_type": "stream",
     "text": [
      " books according to thier price from low to high.\n",
      "{'book_name': 'Eve', 'price': 450}\n",
      "{'book_name': 'John', 'price': 500}\n",
      "{'book_name': 'Bob', 'price': 550}\n",
      "{'book_name': 'Alice', 'price': 600}\n"
     ]
    }
   ],
   "source": [
    "#Question 4\n",
    "book = [\n",
    "    {\"book_name\": \"John\", \"price\": 500},\n",
    "    {\"book_name\": \"Alice\", \"price\": 600},\n",
    "    {\"book_name\": \"Bob\", \"price\": 550},\n",
    "    {\"book_name\": \"Eve\", \"price\": 450},\n",
    "]\n",
    "def sort_by_price(book):\n",
    "    return book[\"price\"]\n",
    "\n",
    "\n",
    "sorted_by_price = sorted(book, key=sort_by_price)\n",
    "\n",
    "print(\" books according to thier price from low to high.\")\n",
    "for price in sorted_by_price:\n",
    "    print(price)"
   ]
  },
  {
   "cell_type": "code",
   "execution_count": 4,
   "id": "406c5e3d-9e81-4906-9056-df54b8716eab",
   "metadata": {},
   "outputs": [
    {
     "name": "stdout",
     "output_type": "stream",
     "text": [
      "Highest Temperature city is Ahmedabad\n",
      "Lowest Temperature city is Delhi\n",
      "Average Temperature is 29.9\n"
     ]
    }
   ],
   "source": [
    "city = {\n",
    "    \"Delhi\": 25,\n",
    "    \"Mumbai\": 32,\n",
    "    \"Bangalore\": 28,\n",
    "    \"Chennai\": 33,\n",
    "    \"Kolkata\": 30,\n",
    "    \"Hyderabad\": 29,\n",
    "    \"Ahmedabad\": 34,\n",
    "    \"Pune\": 27,\n",
    "    \"Jaipur\": 30,\n",
    "    \"Surat\": 31,\n",
    "}\n",
    "\n",
    "max_temp = max(city,key=city.get)\n",
    "min_temp = min(city,key=city.get)\n",
    "Average_temp = sum(city.values())/len(city)\n",
    "\n",
    "print(f\"Highest Temperature city is {max_temp}\")\n",
    "print(f\"Lowest Temperature city is {min_temp}\")\n",
    "print(f\"Average Temperature is {Average_temp}\")"
   ]
  },
  {
   "cell_type": "code",
   "execution_count": 9,
   "id": "391dcbd3-b6c9-479e-a2c4-61b275adb841",
   "metadata": {},
   "outputs": [
    {
     "name": "stdout",
     "output_type": "stream",
     "text": [
      "Percentage of student is 86.66666666666667\n",
      "Distinction\n"
     ]
    }
   ],
   "source": [
    "student = {\"Maths\":90, \"science\":90, \"Computer\":80}\n",
    "total_marks = sum(student.values())\n",
    "max_marks = len(student)*100\n",
    "percentage = (total_marks/max_marks)*100\n",
    "print(f\"Percentage of student is {percentage}\")\n",
    "\n",
    "if percentage >= 75:\n",
    "    student_class = \"Distinction\"\n",
    "elif percentage >= 60:\n",
    "    student_class = \"First Class\"\n",
    "elif percentage >= 50:\n",
    "    student_class = \"Second Class\"\n",
    "elif percentage >= 35:\n",
    "    student_class = \"Pass Class\"\n",
    "else:\n",
    "    student_class = \"Fail\"\n",
    "\n",
    "print(student_class)"
   ]
  },
  {
   "cell_type": "code",
   "execution_count": null,
   "id": "41327d77-d25a-47f0-97f1-c0f8bb1a3a3d",
   "metadata": {},
   "outputs": [],
   "source": []
  }
 ],
 "metadata": {
  "kernelspec": {
   "display_name": "Python 3 (ipykernel)",
   "language": "python",
   "name": "python3"
  },
  "language_info": {
   "codemirror_mode": {
    "name": "ipython",
    "version": 3
   },
   "file_extension": ".py",
   "mimetype": "text/x-python",
   "name": "python",
   "nbconvert_exporter": "python",
   "pygments_lexer": "ipython3",
   "version": "3.12.7"
  }
 },
 "nbformat": 4,
 "nbformat_minor": 5
}
